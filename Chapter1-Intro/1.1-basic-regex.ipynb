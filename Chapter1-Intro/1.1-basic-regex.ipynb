{
 "cells": [
  {
   "cell_type": "markdown",
   "metadata": {},
   "source": [
    "[source-1](https://www.w3schools.com/python/python_regex.asp)"
   ]
  },
  {
   "cell_type": "markdown",
   "metadata": {},
   "source": [
    "- A RegEx, or Regular Expression, is a sequence of characters that forms a search pattern.\n",
    "\n",
    "\n",
    "- RegEx can be used to check if a string contains the specified search pattern.\n",
    "\n",
    "\n",
    "- ^a...s$ defines a RegEx pattern. The pattern is: any five letter string starting with a and ending with s."
   ]
  },
  {
   "cell_type": "markdown",
   "metadata": {},
   "source": [
    "**Here, we used re.match() function to search pattern within the test_string**"
   ]
  },
  {
   "cell_type": "code",
   "execution_count": 1,
   "metadata": {},
   "outputs": [
    {
     "name": "stdout",
     "output_type": "stream",
     "text": [
      "Search successful.\n"
     ]
    }
   ],
   "source": [
    "import re\n",
    "\n",
    "pattern = '^a...s$'\n",
    "test_string = 'abyss'\n",
    "result = re.match(pattern, test_string)\n",
    "\n",
    "if result:\n",
    "    print(\"Search successful.\")\n",
    "else:\n",
    "    print(\"Search unsuccessful.\")"
   ]
  },
  {
   "cell_type": "markdown",
   "metadata": {
    "heading_collapsed": true
   },
   "source": [
    "## Specify Pattern Using RegEx"
   ]
  },
  {
   "cell_type": "markdown",
   "metadata": {
    "hidden": true
   },
   "source": [
    "- To specify regular expressions, metacharacters are used. In the above example, ^ and $ are metacharacters.\n",
    "\n",
    "---------------------------------------------------------------\n",
    "- [] To specify regular expressions, metacharacters are used. In the above example, ^ and $ are metacharacters.\n",
    "\n",
    "        Here, [abc] will match if the string you are trying to match contains any of the a, b or c.\n",
    "        \n",
    "            [abc] a -- 1 match\n",
    "                  ac -- 2 match\n",
    "                  Hey Jude -- No match\n",
    "      \n",
    "        You can also specify a range of characters using - inside square brackets.\n",
    "\n",
    "            [a-e] is the same as [abcde].\n",
    "            [1-4] is the same as [1234].\n",
    "            [0-39] is the same as [01239].\n",
    "\n",
    "        You can complement (invert) the character set by using caret ^ symbol at the start of a square-bracket.\n",
    "\n",
    "            [^abc] means any character except a or b or c.\n",
    "            [^0-9] means any non-digit character.\n",
    "\n",
    "---------------------------------------------------------------\n",
    "\n",
    "- A period matches any single character (except newline '\\n').\n",
    "\n",
    "            .. a -- no match\n",
    "            .. ac -- 1 match\n",
    "            .. acd -- 1 match\n",
    "            .. acde -- 2 match\n",
    "            \n",
    "---------------------------------------------------------------\n",
    "\n",
    "- The caret symbol ^ is used to check if a string starts with a certain character.\n",
    "\n",
    "            ^a a -- 1 match\n",
    "            ^a abc -- 1 match\n",
    "            ^a bac -- no match\n",
    "\n",
    "            ^ab abc -- 1 match\n",
    "            ^ab acb -- no match\n",
    "---------------------------------------------------------------\n",
    "- The dollar symbol $ is used to check if a string ends with a certain character.\n",
    "\n",
    "                a$ a --  1 match\n",
    "                formula -- 1 match\n",
    "                cab -- no match\n",
    "                \n",
    "--------------------------------------------------------------- \n",
    "- The star symbol * matches zero or more occurrences of the pattern left to it.\n",
    "\n",
    "            ma*n mn -- 1 match\n",
    "                 man -- 1 match\n",
    "                 maaan -- 1 match\n",
    "                 main -- no match ( a is not followed by n)\n",
    "                 woman -- 1 match\n",
    "     \n",
    "---------------------------------------------------------------\n",
    "- The plus symbol + matches one or more occurrences of the pattern left to it.\n",
    "\n",
    "            ma+n mn -- no match\n",
    "                 man -- 1 match\n",
    "                 maaan -- 1 match\n",
    "                 main -- No match\n",
    "                 woman -- 1 match\n",
    "\n",
    "---------------------------------------------------------------\n",
    "- The question mark symbol ? matches zero or one occurrence of the pattern left to it.\n",
    "\n",
    "\n",
    "            ma?n mn -- 1 match\n",
    "                 man -- 1 match\n",
    "                 maaan -- no match\n",
    "                 main -- No match\n",
    "                 woman -- 1 match\n",
    "---------------------------------------------------------------\n",
    "- Consider this code: {n,m}. This means at least n, and at most m repetitions of the pattern left to it.\n",
    "\n",
    "            a{2,3} abc dat -- no match\n",
    "                   abd daat -- 1 match (daat)\n",
    "                   aabd daaat -- 2 match\n",
    "                   aabc daaaat --2 match\n",
    "                   \n",
    "            [0-9]{2,4} -- matches at least 2 digits but not more than 4 digits\n",
    "            ab123csde\t1 match (match at ab123csde)\n",
    "            12 and 345673\t3 matches (12, 3456, 73)\n",
    "            1 and 2\tNo match\n",
    "            \n",
    "---------------------------------------------------------------\n",
    "- Vertical bar | is used for alternation (or operator)\n",
    "\n",
    "            a|b cde\tNo match\n",
    "                ade\t1 match (match at ade)\n",
    "                acdbea\t3 matches (at acdbea)\n",
    "                \n",
    "---------------------------------------------------------------\n",
    "- Parentheses () is used to group sub-patterns. For example, (a|b|c)xz match any string that matches either a or b or c followed by xz\n",
    "\n",
    "            (a|b|c)xz\n",
    "            ab xz\tNo match\n",
    "            abxz\t1 match (match at abxz)\n",
    "            axz cabxz\t2 matches (at axzbc cabxz)\n",
    "            \n",
    "---------------------------------------------------------------\n",
    "- Backlash \\ is used to escape various characters including all metacharacters. For example, \"\\$a\"  match if a string contains $ followed by a."
   ]
  },
  {
   "cell_type": "markdown",
   "metadata": {
    "heading_collapsed": true
   },
   "source": [
    "## Special Sequences"
   ]
  },
  {
   "cell_type": "markdown",
   "metadata": {
    "hidden": true
   },
   "source": [
    "- \\A - Matches if the specified characters are at the start of a string.\n",
    "\n",
    "            \\Athe\tthe sun \tMatch\n",
    "                    In the sun\tNo match\n",
    "**************************************************************\n",
    "\n",
    "- \\b - Matches if the specified characters are at the beginning or end of a word.\n",
    "\n",
    "            \\bfoo\tfootball\tMatch\n",
    "                    a football\tMatch\n",
    "                    afootball\tNo match\n",
    "                    \n",
    "            foo\\b\tthe foo\tMatch\n",
    "                    the afoo test\tMatch\n",
    "                    the afootest\tNo match\n",
    "             \n",
    "**************************************************************\n",
    "- \\B - Opposite of \\b. Matches if the specified characters are not at the beginning or end of a word.\n",
    "\n",
    "            \\Bfoo\tfootball\tNo match\n",
    "                    a football\tNo match\n",
    "                    afootball\tMatch\n",
    "\n",
    "\n",
    "\n",
    "            foo\\B\tthe foo\tNo match\n",
    "                    the afoo test\tNo match\n",
    "                    the afootest\tMatch\n",
    "**************************************************************\n",
    "- \\d - Matches any decimal digit. Equivalent to [0-9]\n",
    "\n",
    "            \\d\t12abc3\t3 matches (at 12abc3)\n",
    "                Python\tNo match\n",
    "                \n",
    "**************************************************************\n",
    "- \\D - Matches any non-decimal digit. Equivalent to [^0-9]\n",
    "\n",
    "            \\D\t1ab34\"50\t3 matches (at 1ab34\"50)\n",
    "                1345\tNo match\n",
    "                \n",
    "************************************************************** \n",
    "- \\s  Matches where a string contains any whitespace character. Equivalent to [ \\t\\n\\r\\f\\v]       \n",
    "\n",
    "            \\s\tPython RegEx\t1 match\n",
    "                PythonRegEx\tNo match\n",
    "                \n",
    "************************************************************** \n",
    "- \\S - Matches where a string contains any non-whitespace character. Equivalent to [^ \\t\\n\\r\\f\\v].\n",
    "\n",
    "            \\S\ta b\t2 matches (at  a b)\n",
    "                    No match\n",
    "                                    \n",
    "************************************************************** \n",
    "\n",
    "- \\w - Matches any alphanumeric character (digits and alphabets). Equivalent to [a-zA-Z0-9_]. By the way, underscore _ is also considered an alphanumeric character.\n",
    "\n",
    "\n",
    "        \\w\t12&\": ;c \t3 matches (at 12&\": ;c)\n",
    "            %\"> !\t    No match\n",
    "            \n",
    "- \\W - Matches any non-alphanumeric character. Equivalent to [^a-zA-Z0-9_]\n",
    "\n",
    "        \\W\t1a2%c\t1 match (at 1a2%c)\n",
    "            Python\tNo match\n",
    "            \n",
    "            \n",
    "**************************************************************\n",
    "\n",
    "- \\Z - Matches if the specified characters are at the end of a string.\n",
    "\n",
    "        Python\\Z\tI like Python\t1 match\n",
    "                    I like Python Programming\tNo match\n",
    "                    Python is fun.\tNo match\n",
    "\n"
   ]
  },
  {
   "cell_type": "markdown",
   "metadata": {
    "heading_collapsed": true
   },
   "source": [
    "## Python RegEx"
   ]
  },
  {
   "cell_type": "code",
   "execution_count": 2,
   "metadata": {
    "hidden": true
   },
   "outputs": [],
   "source": [
    "import re"
   ]
  },
  {
   "cell_type": "markdown",
   "metadata": {
    "hidden": true
   },
   "source": [
    "**The re.findall(  ) method returns a list of strings containing all matches.**"
   ]
  },
  {
   "cell_type": "code",
   "execution_count": 3,
   "metadata": {
    "hidden": true
   },
   "outputs": [
    {
     "name": "stdout",
     "output_type": "stream",
     "text": [
      "['12', '89', '34']\n"
     ]
    }
   ],
   "source": [
    "string = 'hello 12 hi 89. Howdy 34'\n",
    "pattern = '\\d+'\n",
    "\n",
    "result = re.findall(pattern, string) \n",
    "print(result)"
   ]
  },
  {
   "cell_type": "markdown",
   "metadata": {
    "hidden": true
   },
   "source": [
    "**The re.split method splits the string where there is a match and returns a list of strings where the splits have occurred.**"
   ]
  },
  {
   "cell_type": "code",
   "execution_count": 4,
   "metadata": {
    "hidden": true
   },
   "outputs": [
    {
     "name": "stdout",
     "output_type": "stream",
     "text": [
      "['Twelve:', ' Eighty nine:', '.']\n"
     ]
    }
   ],
   "source": [
    "string = 'Twelve:12 Eighty nine:89.'\n",
    "pattern = '\\d+'\n",
    "\n",
    "result = re.split(pattern, string) \n",
    "print(result)"
   ]
  },
  {
   "cell_type": "markdown",
   "metadata": {
    "hidden": true
   },
   "source": [
    "You can pass maxsplit argument to the re.split() method. It's the maximum number of splits that will occur."
   ]
  },
  {
   "cell_type": "code",
   "execution_count": 5,
   "metadata": {
    "hidden": true
   },
   "outputs": [
    {
     "name": "stdout",
     "output_type": "stream",
     "text": [
      "['Twelve:', ' Eighty nine:89 Nine:9.']\n"
     ]
    }
   ],
   "source": [
    "string = 'Twelve:12 Eighty nine:89 Nine:9.'\n",
    "pattern = '\\d+'\n",
    "\n",
    "# maxsplit = 1\n",
    "# split only at the first occurrence\n",
    "result = re.split(pattern, string, 1) \n",
    "print(result)"
   ]
  },
  {
   "cell_type": "markdown",
   "metadata": {
    "hidden": true
   },
   "source": [
    "**re.sub(  )**\n",
    "\n",
    "The syntax of re.sub() is:\n",
    "\n",
    "re.sub(pattern, replace, string)\n",
    "\n",
    "The method returns a string where matched occurrences are replaced with the content of replace variable."
   ]
  },
  {
   "cell_type": "code",
   "execution_count": 7,
   "metadata": {
    "hidden": true
   },
   "outputs": [
    {
     "name": "stdout",
     "output_type": "stream",
     "text": [
      "abc 12\n",
      " de 23 \n",
      " f45 6\n",
      "abc12de23f456\n"
     ]
    }
   ],
   "source": [
    "# multiline string\n",
    "string = 'abc 12\\n de 23 \\n f45 6'\n",
    "print(string)\n",
    "\n",
    "# matches all whitespace characters\n",
    "pattern = '\\s+'\n",
    "\n",
    "# empty string\n",
    "replace = ''\n",
    "\n",
    "new_string = re.sub(pattern, replace, string) \n",
    "print(new_string)"
   ]
  },
  {
   "cell_type": "code",
   "execution_count": 11,
   "metadata": {
    "hidden": true
   },
   "outputs": [
    {
     "name": "stdout",
     "output_type": "stream",
     "text": [
      "abc 12de 23 \n",
      " f45 6\n",
      "**********************\n",
      "\n",
      "abc12de 23 \n",
      " f45 6\n"
     ]
    }
   ],
   "source": [
    "# You can pass count as a fourth parameter to the re.sub() method. If omited, it results to 0. This will replace all occurrences.\n",
    "# multiline string\n",
    "string = 'abc 12\\\n",
    "de 23 \\n f45 6'\n",
    "print(string)\n",
    "\n",
    "# matches all whitespace characters\n",
    "pattern = '\\s+'\n",
    "replace = ''\n",
    "\n",
    "print(\"**********************\\n\")\n",
    "new_string = re.sub(r'\\s+', replace, string, 1) \n",
    "print(new_string)"
   ]
  },
  {
   "cell_type": "markdown",
   "metadata": {
    "hidden": true
   },
   "source": [
    "**The re.subn( ) is similar to re.sub( ) expect it returns a tuple of 2 items containing the new string and the number of substitutions made.**"
   ]
  },
  {
   "cell_type": "code",
   "execution_count": 12,
   "metadata": {
    "hidden": true
   },
   "outputs": [
    {
     "name": "stdout",
     "output_type": "stream",
     "text": [
      "abc 12de 23 \n",
      " f45 6\n",
      "('abc12de23f456', 4)\n"
     ]
    }
   ],
   "source": [
    "# multiline string\n",
    "string = 'abc 12\\\n",
    "de 23 \\n f45 6'\n",
    "\n",
    "print(string)\n",
    "# matches all whitespace characters\n",
    "pattern = '\\s+'\n",
    "\n",
    "# empty string\n",
    "replace = ''\n",
    "\n",
    "new_string = re.subn(pattern, replace, string) \n",
    "print(new_string)"
   ]
  },
  {
   "cell_type": "markdown",
   "metadata": {
    "hidden": true
   },
   "source": [
    "**The re.search() method takes two arguments: a pattern and a string. The method looks for the first location where the RegEx pattern produces a match with the string.**\n",
    "\n",
    "If the search is successful, re.search() returns a match object; if not, it returns None."
   ]
  },
  {
   "cell_type": "code",
   "execution_count": 13,
   "metadata": {
    "hidden": true
   },
   "outputs": [
    {
     "name": "stdout",
     "output_type": "stream",
     "text": [
      "pattern found inside the string\n"
     ]
    }
   ],
   "source": [
    "string = \"Python is fun\"\n",
    "\n",
    "# check if 'Python' is at the beginning\n",
    "match = re.search('\\APython', string)\n",
    "\n",
    "if match:\n",
    "    print(\"pattern found inside the string\")\n",
    "else:\n",
    "    print(\"pattern not found\")  "
   ]
  },
  {
   "cell_type": "markdown",
   "metadata": {
    "heading_collapsed": true
   },
   "source": [
    "## Match object"
   ]
  },
  {
   "cell_type": "markdown",
   "metadata": {
    "hidden": true
   },
   "source": [
    "You can get methods and attributes of a match object using dir() function."
   ]
  },
  {
   "cell_type": "markdown",
   "metadata": {
    "hidden": true
   },
   "source": [
    "**The group( ) method returns the part of the string where there is a match.**"
   ]
  },
  {
   "cell_type": "code",
   "execution_count": 15,
   "metadata": {
    "hidden": true
   },
   "outputs": [
    {
     "name": "stdout",
     "output_type": "stream",
     "text": [
      "801 35\n"
     ]
    }
   ],
   "source": [
    "string = '39801 356, 2102 1111'\n",
    "\n",
    "# Three digit number followed by space followed by two digit number\n",
    "pattern = '(\\d{3}) (\\d{2})'\n",
    "\n",
    "# match variable contains a Match object.\n",
    "match = re.search(pattern, string) \n",
    "\n",
    "if match:\n",
    "    print(match.group())\n",
    "else:\n",
    "    print(\"pattern not found\")"
   ]
  },
  {
   "cell_type": "code",
   "execution_count": 16,
   "metadata": {
    "hidden": true
   },
   "outputs": [
    {
     "data": {
      "text/plain": [
       "'801'"
      ]
     },
     "execution_count": 16,
     "metadata": {},
     "output_type": "execute_result"
    }
   ],
   "source": [
    "match.group(1)"
   ]
  },
  {
   "cell_type": "code",
   "execution_count": 17,
   "metadata": {
    "hidden": true
   },
   "outputs": [
    {
     "data": {
      "text/plain": [
       "'35'"
      ]
     },
     "execution_count": 17,
     "metadata": {},
     "output_type": "execute_result"
    }
   ],
   "source": [
    "match.group(2)"
   ]
  },
  {
   "cell_type": "code",
   "execution_count": 18,
   "metadata": {
    "hidden": true
   },
   "outputs": [
    {
     "data": {
      "text/plain": [
       "('801', '35')"
      ]
     },
     "execution_count": 18,
     "metadata": {},
     "output_type": "execute_result"
    }
   ],
   "source": [
    "match.group(1, 2)"
   ]
  },
  {
   "cell_type": "code",
   "execution_count": 19,
   "metadata": {
    "hidden": true
   },
   "outputs": [
    {
     "data": {
      "text/plain": [
       "('801', '35')"
      ]
     },
     "execution_count": 19,
     "metadata": {},
     "output_type": "execute_result"
    }
   ],
   "source": [
    "match.groups()"
   ]
  },
  {
   "cell_type": "code",
   "execution_count": 20,
   "metadata": {
    "hidden": true
   },
   "outputs": [
    {
     "name": "stdout",
     "output_type": "stream",
     "text": [
      "2\n",
      "8\n",
      "(2, 8)\n"
     ]
    }
   ],
   "source": [
    "# The start() function returns the index of the start of the matched substring. \n",
    "# Similarly, end() returns the end index of the matched substring.\n",
    "# The span() function returns a tuple containing start and end index of the matched part.\n",
    "print(match.start())\n",
    "\n",
    "print(match.end())\n",
    "\n",
    "print(match.span())"
   ]
  },
  {
   "cell_type": "code",
   "execution_count": 21,
   "metadata": {
    "hidden": true
   },
   "outputs": [
    {
     "name": "stdout",
     "output_type": "stream",
     "text": [
      "re.compile('(\\\\d{3}) (\\\\d{2})')\n",
      "39801 356, 2102 1111\n"
     ]
    }
   ],
   "source": [
    "# The re attribute of a matched object returns a regular expression object. \n",
    "# string attribute returns the passed string.\n",
    "print(match.re)\n",
    "\n",
    "print(match.string)"
   ]
  },
  {
   "cell_type": "markdown",
   "metadata": {
    "hidden": true
   },
   "source": [
    "**using r prefix before RegEx**\n",
    "\n",
    "When r or R prefix is used before a regular expression, it means raw string. For example, '\\n' is a new line whereas r'\\n' means two characters: a backslash \\ followed by n.\n",
    " \n",
    "\n",
    "Backlash \\ is used to escape various characters including all metacharacters. However, using r prefix makes \\ treat as a normal character.\n",
    "\n"
   ]
  },
  {
   "cell_type": "code",
   "execution_count": 22,
   "metadata": {
    "hidden": true
   },
   "outputs": [
    {
     "name": "stdout",
     "output_type": "stream",
     "text": [
      "['\\n', '\\r']\n"
     ]
    }
   ],
   "source": [
    "string = '\\n and \\r are escape sequences.'\n",
    "\n",
    "\n",
    "result = re.findall(r'[\\n\\r]', string) \n",
    "\n",
    "print(result)"
   ]
  },
  {
   "cell_type": "code",
   "execution_count": null,
   "metadata": {
    "hidden": true
   },
   "outputs": [],
   "source": []
  }
 ],
 "metadata": {
  "kernelspec": {
   "display_name": "Python 3",
   "language": "python",
   "name": "python3"
  },
  "language_info": {
   "codemirror_mode": {
    "name": "ipython",
    "version": 3
   },
   "file_extension": ".py",
   "mimetype": "text/x-python",
   "name": "python",
   "nbconvert_exporter": "python",
   "pygments_lexer": "ipython3",
   "version": "3.8.5"
  },
  "toc": {
   "base_numbering": 1,
   "nav_menu": {},
   "number_sections": true,
   "sideBar": true,
   "skip_h1_title": false,
   "title_cell": "Table of Contents",
   "title_sidebar": "Contents",
   "toc_cell": false,
   "toc_position": {},
   "toc_section_display": true,
   "toc_window_display": false
  }
 },
 "nbformat": 4,
 "nbformat_minor": 4
}
