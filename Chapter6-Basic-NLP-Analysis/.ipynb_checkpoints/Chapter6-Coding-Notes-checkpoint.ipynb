{
 "cells": [
  {
   "cell_type": "markdown",
   "metadata": {},
   "source": [
    "## Open Function"
   ]
  },
  {
   "cell_type": "markdown",
   "metadata": {},
   "source": [
    "The Open() function opens a file and returns it as a file object\n",
    "\n",
    "**Open(File,mode)**"
   ]
  },
  {
   "cell_type": "markdown",
   "metadata": {},
   "source": [
    "-\"r\" - Read - Default value. Opens a file for reading, error if the file does not exist\n",
    "\n",
    "-\"a\" - Append - Opens a file for appending, creates the file if it does not exist\n",
    "\n",
    "-\"w\" - Write - Opens a file for writing, creates the file if it does not exist\n",
    "\n",
    "-\"x\" - Create - Creates the specified file, returns an error if the file exist\n",
    "\n",
    "-\"t\" - Text - Default value. Text mode\n",
    "\n",
    "-\"b\" - Binary - Binary mode (e.g. images)"
   ]
  },
  {
   "cell_type": "markdown",
   "metadata": {},
   "source": [
    "```python\n",
    "f = open(\"demofile.txt\", \"r\")\n",
    "print(f.read())\n",
    "```"
   ]
  },
  {
   "cell_type": "markdown",
   "metadata": {},
   "source": [
    "## Join Function"
   ]
  },
  {
   "cell_type": "markdown",
   "metadata": {},
   "source": [
    "The join() method is a string method and returns a string in which the elements of sequence have been joined by str separator."
   ]
  },
  {
   "cell_type": "markdown",
   "metadata": {},
   "source": [
    "# Python program to demonstrate the\n",
    "# use of join function to join list\n",
    "# elements with a character.\n",
    "  \n",
    "list1 = ['1','2','3','4'] \n",
    "  \n",
    "s = \"-\"\n",
    "  \n",
    "# joins elements of list1 by '-'\n",
    "# and stores in sting s\n",
    "s = s.join(list1)\n",
    "  \n",
    "# join use to join a list of\n",
    "# strings to a separator s\n",
    "print(s)"
   ]
  }
 ],
 "metadata": {
  "kernelspec": {
   "display_name": "Python 3",
   "language": "python",
   "name": "python3"
  },
  "language_info": {
   "codemirror_mode": {
    "name": "ipython",
    "version": 3
   },
   "file_extension": ".py",
   "mimetype": "text/x-python",
   "name": "python",
   "nbconvert_exporter": "python",
   "pygments_lexer": "ipython3",
   "version": "3.8.5"
  },
  "toc": {
   "base_numbering": 1,
   "nav_menu": {},
   "number_sections": true,
   "sideBar": true,
   "skip_h1_title": false,
   "title_cell": "Table of Contents",
   "title_sidebar": "Contents",
   "toc_cell": false,
   "toc_position": {},
   "toc_section_display": true,
   "toc_window_display": false
  }
 },
 "nbformat": 4,
 "nbformat_minor": 4
}
