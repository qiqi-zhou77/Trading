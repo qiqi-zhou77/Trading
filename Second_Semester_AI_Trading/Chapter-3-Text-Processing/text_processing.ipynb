{
 "cells": [
  {
   "cell_type": "markdown",
   "metadata": {},
   "source": [
    "[Reference](https://github.com/udacity/AIND-NLP/blob/master/text_processing.ipynb)"
   ]
  },
  {
   "cell_type": "markdown",
   "metadata": {},
   "source": [
    "# Text Processing\n",
    "\n",
    "## Capturing Text Data\n",
    "\n",
    "### Plain Text"
   ]
  },
  {
   "cell_type": "code",
   "execution_count": 1,
   "metadata": {},
   "outputs": [
    {
     "name": "stdout",
     "output_type": "stream",
     "text": [
      "Hieroglyphic writing dates from c. 3000 BC, and is composed of hundreds of symbols. A hieroglyph can represent a word, a sound, or a silent determinative; and the same symbol can serve different purposes in different contexts. Hieroglyphs were a formal script, used on stone monuments and in tombs, that could be as detailed as individual works of art.\n",
      "\n"
     ]
    }
   ],
   "source": [
    "import os\n",
    "\n",
    "# Read in a plain text file\n",
    "with open(os.path.join(\"data\", \"hieroglyph.txt\"), \"r\") as f:\n",
    "    text = f.read()\n",
    "    print(text)"
   ]
  },
  {
   "cell_type": "markdown",
   "metadata": {},
   "source": [
    "### Tabular Data"
   ]
  },
  {
   "cell_type": "code",
   "execution_count": 2,
   "metadata": {
    "scrolled": true
   },
   "outputs": [
    {
     "data": {
      "text/html": [
       "<div>\n",
       "<style scoped>\n",
       "    .dataframe tbody tr th:only-of-type {\n",
       "        vertical-align: middle;\n",
       "    }\n",
       "\n",
       "    .dataframe tbody tr th {\n",
       "        vertical-align: top;\n",
       "    }\n",
       "\n",
       "    .dataframe thead th {\n",
       "        text-align: right;\n",
       "    }\n",
       "</style>\n",
       "<table border=\"1\" class=\"dataframe\">\n",
       "  <thead>\n",
       "    <tr style=\"text-align: right;\">\n",
       "      <th></th>\n",
       "      <th>publisher</th>\n",
       "      <th>title</th>\n",
       "    </tr>\n",
       "  </thead>\n",
       "  <tbody>\n",
       "    <tr>\n",
       "      <th>0</th>\n",
       "      <td>Livemint</td>\n",
       "      <td>fed's charles plosser sees high bar for change...</td>\n",
       "    </tr>\n",
       "    <tr>\n",
       "      <th>1</th>\n",
       "      <td>IFA Magazine</td>\n",
       "      <td>us open: stocks fall after fed official hints ...</td>\n",
       "    </tr>\n",
       "    <tr>\n",
       "      <th>2</th>\n",
       "      <td>IFA Magazine</td>\n",
       "      <td>fed risks falling 'behind the curve', charles ...</td>\n",
       "    </tr>\n",
       "    <tr>\n",
       "      <th>3</th>\n",
       "      <td>Moneynews</td>\n",
       "      <td>fed's plosser: nasty weather has curbed job gr...</td>\n",
       "    </tr>\n",
       "    <tr>\n",
       "      <th>4</th>\n",
       "      <td>NASDAQ</td>\n",
       "      <td>plosser: fed may have to accelerate tapering pace</td>\n",
       "    </tr>\n",
       "  </tbody>\n",
       "</table>\n",
       "</div>"
      ],
      "text/plain": [
       "      publisher                                              title\n",
       "0      Livemint  fed's charles plosser sees high bar for change...\n",
       "1  IFA Magazine  us open: stocks fall after fed official hints ...\n",
       "2  IFA Magazine  fed risks falling 'behind the curve', charles ...\n",
       "3     Moneynews  fed's plosser: nasty weather has curbed job gr...\n",
       "4        NASDAQ  plosser: fed may have to accelerate tapering pace"
      ]
     },
     "execution_count": 2,
     "metadata": {},
     "output_type": "execute_result"
    }
   ],
   "source": [
    "import pandas as pd\n",
    "\n",
    "# Extract text column from a dataframe\n",
    "df = pd.read_csv(os.path.join(\"data\", \"news.csv\"))\n",
    "df.head()[['publisher', 'title']]\n",
    "\n",
    "# Convert text column to lowercase\n",
    "df['title'] = df['title'].str.lower()\n",
    "df.head()[['publisher', 'title']]"
   ]
  },
  {
   "cell_type": "markdown",
   "metadata": {},
   "source": [
    "### Online Resource"
   ]
  },
  {
   "cell_type": "code",
   "execution_count": 3,
   "metadata": {
    "scrolled": true
   },
   "outputs": [
    {
     "name": "stdout",
     "output_type": "stream",
     "text": [
      "{\n",
      "    \"success\": {\n",
      "        \"total\": 1\n",
      "    },\n",
      "    \"contents\": {\n",
      "        \"quotes\": [\n",
      "            {\n",
      "                \"quote\": \"One voice can change a room, and if one voice can change a room, then it can change a city, and if it can change a city, it can change a state, and if it change a state, it can change a nation, and if it can change a nation, it can change the world. Your voice can change the world.\",\n",
      "                \"length\": \"282\",\n",
      "                \"author\": \"Barack Obama\",\n",
      "                \"tags\": [\n",
      "                    \"change\",\n",
      "                    \"inspire\",\n",
      "                    \"life\"\n",
      "                ],\n",
      "                \"category\": \"inspire\",\n",
      "                \"language\": \"en\",\n",
      "                \"date\": \"2021-06-01\",\n",
      "                \"permalink\": \"https://theysaidso.com/quote/barack-obama-one-voice-can-change-a-room-and-if-one-voice-can-change-a-room-then\",\n",
      "                \"id\": \"4_k2mhc0jTAASnde5xReOQeF\",\n",
      "                \"background\": \"https://theysaidso.com/img/qod/qod-inspire.jpg\",\n",
      "                \"title\": \"Inspiring Quote of the day\"\n",
      "            }\n",
      "        ]\n",
      "    },\n",
      "    \"baseurl\": \"https://theysaidso.com\",\n",
      "    \"copyright\": {\n",
      "        \"year\": 2023,\n",
      "        \"url\": \"https://theysaidso.com\"\n",
      "    }\n",
      "}\n",
      "One voice can change a room, and if one voice can change a room, then it can change a city, and if it can change a city, it can change a state, and if it change a state, it can change a nation, and if it can change a nation, it can change the world. Your voice can change the world. \n",
      "-- Barack Obama\n"
     ]
    }
   ],
   "source": [
    "import requests\n",
    "import json\n",
    "\n",
    "# Fetch data from a REST API\n",
    "r = requests.get(\n",
    "    \"https://quotes.rest/qod.json\")\n",
    "res = r.json()\n",
    "print(json.dumps(res, indent=4))\n",
    "\n",
    "# Extract relevant object and field\n",
    "q = res[\"contents\"][\"quotes\"][0]\n",
    "print(q[\"quote\"], \"\\n--\", q[\"author\"])"
   ]
  },
  {
   "cell_type": "markdown",
   "metadata": {},
   "source": [
    "## Cleaning"
   ]
  },
  {
   "cell_type": "code",
   "execution_count": 4,
   "metadata": {
    "scrolled": true
   },
   "outputs": [
    {
     "name": "stdout",
     "output_type": "stream",
     "text": [
      "<html lang=\"en\" op=\"news\"><head><meta name=\"referrer\" content=\"origin\"><meta name=\"viewport\" content=\"width=device-width, initial-scale=1.0\"><link rel=\"stylesheet\" type=\"text/css\" href=\"news.css?Y4n5laKbPqW98Lfx2gD2\">\n",
      "        <link rel=\"shortcut icon\" href=\"favicon.ico\">\n",
      "          <link rel=\"alternate\" type=\"application/rss+xml\" title=\"RSS\" href=\"rss\">\n",
      "        <title>Hacker News</title></head><body><center><table id=\"hnmain\" border=\"0\" cellpadding=\"0\" cellspacing=\"0\" width=\"85%\" bgcolor=\"#f6f6ef\">\n",
      "        <tr><td bgcolor=\"#ff6600\"><table border=\"0\" cellpadding=\"0\" cellspacing=\"0\" width=\"100%\" style=\"padding:2px\"><tr><td style=\"width:18px;padding-right:4px\"><a href=\"https://news.ycombinator.com\"><img src=\"y18.gif\" width=\"18\" height=\"18\" style=\"border:1px white solid;\"></a></td>\n",
      "                  <td style=\"line-height:12pt; height:10px;\"><span class=\"pagetop\"><b class=\"hnname\"><a href=\"news\">Hacker News</a></b>\n",
      "              <a href=\"newest\">new</a> | <a href=\"front\">past</a> | <a href=\"newcomments\">comments</a> | <a href=\"ask\">ask</a> | <a href=\"show\">show</a> | <a href=\"jobs\">jobs</a> | <a href=\"submit\">submit</a>            </span></td><td style=\"text-align:right;padding-right:4px;\"><span class=\"pagetop\">\n",
      "                              <a href=\"login?goto=news\">login</a>\n",
      "                          </span></td>\n",
      "              </tr></table></td></tr>\n",
      "<tr id=\"pagespace\" title=\"\" style=\"height:10px\"></tr><tr><td><table border=\"0\" cellpadding=\"0\" cellspacing=\"0\" class=\"itemlist\">\n",
      "              <tr class='athing' id='27352700'>\n",
      "      <td align=\"right\" valign=\"top\" class=\"title\"><span class=\"rank\">1.</span></td>      <td valign=\"top\" class=\"votelinks\"><center><a id='up_27352700' href='vote?id=27352700&amp;how=up&amp;goto=news'><div class='votearrow' title='upvote'></div></a></center></td><td class=\"title\"><a href=\"https://www.bbc.co.uk/news/business-57253947\" class=\"storylink\">Why electric cars will take over sooner than you think</a><span class=\"sitebit comhead\"> (<a href=\"from?site=bbc.co.uk\"><span class=\"sitestr\">bbc.co.uk</span></a>)</span></td></tr><tr><td colspan=\"2\"></td><td class=\"subtext\">\n",
      "        <span class=\"score\" id=\"score_27352700\">13 points</span> by <a href=\"user?id=Kaibeezy\" class=\"hnuser\">Kaibeezy</a> <span class=\"age\"><a href=\"item?id=27352700\">25 minutes ago</a></span> <span id=\"unv_27352700\"></span> | <a href=\"hide?id=27352700&amp;goto=news\">hide</a> | <a href=\"item?id=27352700\">discuss</a>              </td></tr>\n",
      "      <tr class=\"spacer\" style=\"height:5px\"></tr>\n",
      "                <tr class='athing' id='27350632'>\n",
      "      <td align=\"right\" valign=\"top\" class=\"title\"><span class=\"rank\">2.</span></td>      <td valign=\"top\" class=\"votelinks\"><center><a id='up_27350632' href='vote?id=27350632&amp;how=up&amp;goto=news'><div class='votearrow' title='upvote'></div></a></center></td><td class=\"title\"><a href=\"https://www.anandtech.com/show/16725/amd-demonstrates-stacked-vcache-technology-2-tbsec-for-15-gaming\" class=\"storylink\">AMD Demonstrates Stacked 3D V-Cache Technology: 192 MB at 2 TB/SEC</a><span class=\"sitebit comhead\"> (<a href=\"from?site=anandtech.com\"><span class=\"sitestr\">anandtech.com</span></a>)</span></td></tr><tr><td colspan=\"2\"></td><td class=\"subtext\">\n",
      "        <span class=\"score\" id=\"score_27350632\">268 points</span> by <a href=\"user?id=zdw\" class=\"hnuser\">zdw</a> <span class=\"age\"><a href=\"item?id=27350632\">7 hours ago</a></span> <span id=\"unv_27350632\"></span> | <a href=\"hide?id=27350632&amp;goto=news\">hide</a> | <a href=\"item?id=27350632\">96&nbsp;comments</a>              </td></tr>\n",
      "      <tr class=\"spacer\" style=\"height:5px\"></tr>\n",
      "                <tr class='athing' id='27352738'>\n",
      "      <td align=\"right\" valign=\"top\" class=\"title\"><span class=\"rank\">3.</span></td>      <td valign=\"top\" class=\"votelinks\"><center><a id='up_27352738' href='vote?id=27352738&amp;how=up&amp;goto=news'><div class='votearrow' title='upvote'></div></a></center></td><td class=\"title\"><a href=\"https://www.bbc.co.uk/news/in-pictures-57233756\" class=\"storylink\" rel=\"nofollow\">Mars: NASA's Perseverance rover's first 100 days in pictures</a><span class=\"sitebit comhead\"> (<a href=\"from?site=bbc.co.uk\"><span class=\"sitestr\">bbc.co.uk</span></a>)</span></td></tr><tr><td colspan=\"2\"></td><td class=\"subtext\">\n",
      "        <span class=\"score\" id=\"score_27352738\">4 points</span> by <a href=\"user?id=rwmj\" class=\"hnuser\">rwmj</a> <span class=\"age\"><a href=\"item?id=27352738\">19 minutes ago</a></span> <span id=\"unv_27352738\"></span> | <a href=\"hide?id=27352738&amp;goto=news\">hide</a> | <a href=\"item?id=27352738\">discuss</a>              </td></tr>\n",
      "      <tr class=\"spacer\" style=\"height:5px\"></tr>\n",
      "                <tr class='athing' id='27350264'>\n",
      "      <td align=\"right\" valign=\"top\" class=\"title\"><span class=\"rank\">4.</span></td>      <td valign=\"top\" class=\"votelinks\"><center><a id='up_27350264' href='vote?id=27350264&amp;how=up&amp;goto=news'><div class='votearrow' title='upvote'></div></a></center></td><td class=\"title\"><a href=\"https://github.com/se2p/pynguin\" class=\"storylink\">Pynguin – Generate Python unit tests automatically</a><span class=\"sitebit comhead\"> (<a href=\"from?site=github.com/se2p\"><span class=\"sitestr\">github.com/se2p</span></a>)</span></td></tr><tr><td colspan=\"2\"></td><td class=\"subtext\">\n",
      "        <span class=\"score\" id=\"score_27350264\">100 points</span> by <a href=\"user?id=JNRowe\" class=\"hnuser\">JNRowe</a> <span class=\"age\"><a href=\"item?id=27350264\">8 hours ago</a></span> <span id=\"unv_27350264\"></span> | <a href=\"hide?id=27350264&amp;goto=news\">hide</a> | <a href=\"item?id=27350264\">48&nbsp;comments</a>              </td></tr>\n",
      "      <tr class=\"spacer\" style=\"height:5px\"></tr>\n",
      "                <tr class='athing' id='27335491'>\n",
      "      <td align=\"right\" valign=\"top\" class=\"title\"><span class=\"rank\">5.</span></td>      <td valign=\"top\" class=\"votelinks\"><center><a id='up_27335491' href='vote?id=27335491&amp;how=up&amp;goto=news'><div class='votearrow' title='upvote'></div></a></center></td><td class=\"title\"><a href=\"https://defaultfriend.substack.com/p/86-rejection-sensitivity\" class=\"storylink\">Rejection Sensitivity</a><span class=\"sitebit comhead\"> (<a href=\"from?site=defaultfriend.substack.com\"><span class=\"sitestr\">defaultfriend.substack.com</span></a>)</span></td></tr><tr><td colspan=\"2\"></td><td class=\"subtext\">\n",
      "        <span class=\"score\" id=\"score_27335491\">18 points</span> by <a href=\"user?id=exolymph\" class=\"hnuser\">exolymph</a> <span class=\"age\"><a href=\"item?id=27335491\">3 hours ago</a></span> <span id=\"unv_27335491\"></span> | <a href=\"hide?id=27335491&amp;goto=news\">hide</a> | <a href=\"item?id=27335491\">10&nbsp;comments</a>              </td></tr>\n",
      "      <tr class=\"spacer\" style=\"height:5px\"></tr>\n",
      "                <tr class='athing' id='27350134'>\n",
      "      <td align=\"right\" valign=\"top\" class=\"title\"><span class=\"rank\">6.</span></td>      <td valign=\"top\" class=\"votelinks\"><center><a id='up_27350134' href='vote?id=27350134&amp;how=up&amp;goto=news'><div class='votearrow' title='upvote'></div></a></center></td><td class=\"title\"><a href=\"https://blog.westerndigital.com/nvme-of-explained/\" class=\"storylink\">NVMe over Fabrics Explained</a><span class=\"sitebit comhead\"> (<a href=\"from?site=westerndigital.com\"><span class=\"sitestr\">westerndigital.com</span></a>)</span></td></tr><tr><td colspan=\"2\"></td><td class=\"subtext\">\n",
      "        <span class=\"score\" id=\"score_27350134\">62 points</span> by <a href=\"user?id=nickysielicki\" class=\"hnuser\">nickysielicki</a> <span class=\"age\"><a href=\"item?id=27350134\">8 hours ago</a></span> <span id=\"unv_27350134\"></span> | <a href=\"hide?id=27350134&amp;goto=news\">hide</a> | <a href=\"item?id=27350134\">8&nbsp;comments</a>              </td></tr>\n",
      "      <tr class=\"spacer\" style=\"height:5px\"></tr>\n",
      "                <tr class='athing' id='27351970'>\n",
      "      <td align=\"right\" valign=\"top\" class=\"title\"><span class=\"rank\">7.</span></td>      <td valign=\"top\" class=\"votelinks\"><center><a id='up_27351970' href='vote?id=27351970&amp;how=up&amp;goto=news'><div class='votearrow' title='upvote'></div></a></center></td><td class=\"title\"><a href=\"https://github.com/admin-ch/CovidCertificate-Documents\" class=\"storylink\">Swiss Covid Certificate – Technical documentation of the swiss Covid certificate</a><span class=\"sitebit comhead\"> (<a href=\"from?site=github.com/admin-ch\"><span class=\"sitestr\">github.com/admin-ch</span></a>)</span></td></tr><tr><td colspan=\"2\"></td><td class=\"subtext\">\n",
      "        <span class=\"score\" id=\"score_27351970\">26 points</span> by <a href=\"user?id=shashasha2\" class=\"hnuser\">shashasha2</a> <span class=\"age\"><a href=\"item?id=27351970\">2 hours ago</a></span> <span id=\"unv_27351970\"></span> | <a href=\"hide?id=27351970&amp;goto=news\">hide</a> | <a href=\"item?id=27351970\">6&nbsp;comments</a>              </td></tr>\n",
      "      <tr class=\"spacer\" style=\"height:5px\"></tr>\n",
      "                <tr class='athing' id='27347028'>\n",
      "      <td align=\"right\" valign=\"top\" class=\"title\"><span class=\"rank\">8.</span></td>      <td valign=\"top\" class=\"votelinks\"><center><a id='up_27347028' href='vote?id=27347028&amp;how=up&amp;goto=news'><div class='votearrow' title='upvote'></div></a></center></td><td class=\"title\"><a href=\"https://every.to/cybernaut/caught-in-the-study-web\" class=\"storylink\">Caught in the Study Web</a><span class=\"sitebit comhead\"> (<a href=\"from?site=every.to\"><span class=\"sitestr\">every.to</span></a>)</span></td></tr><tr><td colspan=\"2\"></td><td class=\"subtext\">\n",
      "        <span class=\"score\" id=\"score_27347028\">75 points</span> by <a href=\"user?id=exolymph\" class=\"hnuser\">exolymph</a> <span class=\"age\"><a href=\"item?id=27347028\">9 hours ago</a></span> <span id=\"unv_27347028\"></span> | <a href=\"hide?id=27347028&amp;goto=news\">hide</a> | <a href=\"item?id=27347028\">11&nbsp;comments</a>              </td></tr>\n",
      "      <tr class=\"spacer\" style=\"height:5px\"></tr>\n",
      "                <tr class='athing' id='27350523'>\n",
      "      <td align=\"right\" valign=\"top\" class=\"title\"><span class=\"rank\">9.</span></td>      <td valign=\"top\" class=\"votelinks\"><center><a id='up_27350523' href='vote?id=27350523&amp;how=up&amp;goto=news'><div class='votearrow' title='upvote'></div></a></center></td><td class=\"title\"><a href=\"https://sagacioussuricata.com/posts/openwrt-serial-bridge/\" class=\"storylink\">Making Wi-Fi serial console adapters with old portable routers</a><span class=\"sitebit comhead\"> (<a href=\"from?site=sagacioussuricata.com\"><span class=\"sitestr\">sagacioussuricata.com</span></a>)</span></td></tr><tr><td colspan=\"2\"></td><td class=\"subtext\">\n",
      "        <span class=\"score\" id=\"score_27350523\">46 points</span> by <a href=\"user?id=zdw\" class=\"hnuser\">zdw</a> <span class=\"age\"><a href=\"item?id=27350523\">7 hours ago</a></span> <span id=\"unv_27350523\"></span> | <a href=\"hide?id=27350523&amp;goto=news\">hide</a> | <a href=\"item?id=27350523\">9&nbsp;comments</a>              </td></tr>\n",
      "      <tr class=\"spacer\" style=\"height:5px\"></tr>\n",
      "                <tr class='athing' id='27351454'>\n",
      "      <td align=\"right\" valign=\"top\" class=\"title\"><span class=\"rank\">10.</span></td>      <td valign=\"top\" class=\"votelinks\"><center><a id='up_27351454' href='vote?id=27351454&amp;how=up&amp;goto=news'><div class='votearrow' title='upvote'></div></a></center></td><td class=\"title\"><a href=\"https://www.raspberrypi.org/blog/raspberry-pi-rp2040-on-sale/\" class=\"storylink\">Raspberry Silicon update: RP2040 on sale now at $1</a><span class=\"sitebit comhead\"> (<a href=\"from?site=raspberrypi.org\"><span class=\"sitestr\">raspberrypi.org</span></a>)</span></td></tr><tr><td colspan=\"2\"></td><td class=\"subtext\">\n",
      "        <span class=\"score\" id=\"score_27351454\">51 points</span> by <a href=\"user?id=crispinh\" class=\"hnuser\">crispinh</a> <span class=\"age\"><a href=\"item?id=27351454\">4 hours ago</a></span> <span id=\"unv_27351454\"></span> | <a href=\"hide?id=27351454&amp;goto=news\">hide</a> | <a href=\"item?id=27351454\">12&nbsp;comments</a>              </td></tr>\n",
      "      <tr class=\"spacer\" style=\"height:5px\"></tr>\n",
      "                <tr class='athing' id='27347931'>\n",
      "      <td align=\"right\" valign=\"top\" class=\"title\"><span class=\"rank\">11.</span></td>      <td valign=\"top\" class=\"votelinks\"><center><a id='up_27347931' href='vote?id=27347931&amp;how=up&amp;goto=news'><div class='votearrow' title='upvote'></div></a></center></td><td class=\"title\"><a href=\"https://www.insidescience.org/news/how-speak-cicada\" class=\"storylink\">How to Speak Cicada</a><span class=\"sitebit comhead\"> (<a href=\"from?site=insidescience.org\"><span class=\"sitestr\">insidescience.org</span></a>)</span></td></tr><tr><td colspan=\"2\"></td><td class=\"subtext\">\n",
      "        <span class=\"score\" id=\"score_27347931\">24 points</span> by <a href=\"user?id=redeemed\" class=\"hnuser\">redeemed</a> <span class=\"age\"><a href=\"item?id=27347931\">7 hours ago</a></span> <span id=\"unv_27347931\"></span> | <a href=\"hide?id=27347931&amp;goto=news\">hide</a> | <a href=\"item?id=27347931\">5&nbsp;comments</a>              </td></tr>\n",
      "      <tr class=\"spacer\" style=\"height:5px\"></tr>\n",
      "                <tr class='athing' id='27343670'>\n",
      "      <td align=\"right\" valign=\"top\" class=\"title\"><span class=\"rank\">12.</span></td>      <td valign=\"top\" class=\"votelinks\"><center><a id='up_27343670' href='vote?id=27343670&amp;how=up&amp;goto=news'><div class='votearrow' title='upvote'></div></a></center></td><td class=\"title\"><a href=\"https://www.louisbouchard.ai/4k-image-translation-in-real-time/\" class=\"storylink\">High-Resolution Photorealistic Image Translation in Real-Time</a><span class=\"sitebit comhead\"> (<a href=\"from?site=louisbouchard.ai\"><span class=\"sitestr\">louisbouchard.ai</span></a>)</span></td></tr><tr><td colspan=\"2\"></td><td class=\"subtext\">\n",
      "        <span class=\"score\" id=\"score_27343670\">42 points</span> by <a href=\"user?id=jonbaer\" class=\"hnuser\">jonbaer</a> <span class=\"age\"><a href=\"item?id=27343670\">9 hours ago</a></span> <span id=\"unv_27343670\"></span> | <a href=\"hide?id=27343670&amp;goto=news\">hide</a> | <a href=\"item?id=27343670\">10&nbsp;comments</a>              </td></tr>\n",
      "      <tr class=\"spacer\" style=\"height:5px\"></tr>\n",
      "                <tr class='athing' id='27344010'>\n",
      "      <td align=\"right\" valign=\"top\" class=\"title\"><span class=\"rank\">13.</span></td>      <td valign=\"top\" class=\"votelinks\"><center><a id='up_27344010' href='vote?id=27344010&amp;how=up&amp;goto=news'><div class='votearrow' title='upvote'></div></a></center></td><td class=\"title\"><a href=\"https://onezero.medium.com/the-document-metaphor-desktop-gui-doesnt-work-anymore-d276271bfa40\" class=\"storylink\">Rethinking the computer ‘desktop’ as a concept</a><span class=\"sitebit comhead\"> (<a href=\"from?site=onezero.medium.com\"><span class=\"sitestr\">onezero.medium.com</span></a>)</span></td></tr><tr><td colspan=\"2\"></td><td class=\"subtext\">\n",
      "        <span class=\"score\" id=\"score_27344010\">366 points</span> by <a href=\"user?id=todsacerdoti\" class=\"hnuser\">todsacerdoti</a> <span class=\"age\"><a href=\"item?id=27344010\">15 hours ago</a></span> <span id=\"unv_27344010\"></span> | <a href=\"hide?id=27344010&amp;goto=news\">hide</a> | <a href=\"item?id=27344010\">469&nbsp;comments</a>              </td></tr>\n",
      "      <tr class=\"spacer\" style=\"height:5px\"></tr>\n",
      "                <tr class='athing' id='27351420'>\n",
      "      <td align=\"right\" valign=\"top\" class=\"title\"><span class=\"rank\">14.</span></td>      <td></td><td class=\"title\"><a href=\"https://deepnote.com/join-us\" class=\"storylink\" rel=\"nofollow\">Deepnote (YC S19) Is Hiring (SF, Prague)</a><span class=\"sitebit comhead\"> (<a href=\"from?site=deepnote.com\"><span class=\"sitestr\">deepnote.com</span></a>)</span></td></tr><tr><td colspan=\"2\"></td><td class=\"subtext\">\n",
      "        <span class=\"age\"><a href=\"item?id=27351420\">4 hours ago</a></span> | <a href=\"hide?id=27351420&amp;goto=news\">hide</a>      </td></tr>\n",
      "      <tr class=\"spacer\" style=\"height:5px\"></tr>\n",
      "                <tr class='athing' id='27350108'>\n",
      "      <td align=\"right\" valign=\"top\" class=\"title\"><span class=\"rank\">15.</span></td>      <td valign=\"top\" class=\"votelinks\"><center><a id='up_27350108' href='vote?id=27350108&amp;how=up&amp;goto=news'><div class='votearrow' title='upvote'></div></a></center></td><td class=\"title\"><a href=\"https://github.com/oceanbase/oceanbase\" class=\"storylink\">Oceanbase, yet another open source HTAP database</a><span class=\"sitebit comhead\"> (<a href=\"from?site=github.com/oceanbase\"><span class=\"sitestr\">github.com/oceanbase</span></a>)</span></td></tr><tr><td colspan=\"2\"></td><td class=\"subtext\">\n",
      "        <span class=\"score\" id=\"score_27350108\">35 points</span> by <a href=\"user?id=jinqueeny\" class=\"hnuser\">jinqueeny</a> <span class=\"age\"><a href=\"item?id=27350108\">8 hours ago</a></span> <span id=\"unv_27350108\"></span> | <a href=\"hide?id=27350108&amp;goto=news\">hide</a> | <a href=\"item?id=27350108\">8&nbsp;comments</a>              </td></tr>\n",
      "      <tr class=\"spacer\" style=\"height:5px\"></tr>\n",
      "                <tr class='athing' id='27349947'>\n",
      "      <td align=\"right\" valign=\"top\" class=\"title\"><span class=\"rank\">16.</span></td>      <td valign=\"top\" class=\"votelinks\"><center><a id='up_27349947' href='vote?id=27349947&amp;how=up&amp;goto=news'><div class='votearrow' title='upvote'></div></a></center></td><td class=\"title\"><a href=\"https://support.sevenhugs.com/t/35hfcvg\" class=\"storylink\">Sevenhugs exits the universal remote business</a><span class=\"sitebit comhead\"> (<a href=\"from?site=sevenhugs.com\"><span class=\"sitestr\">sevenhugs.com</span></a>)</span></td></tr><tr><td colspan=\"2\"></td><td class=\"subtext\">\n",
      "        <span class=\"score\" id=\"score_27349947\">41 points</span> by <a href=\"user?id=jsjohnst\" class=\"hnuser\">jsjohnst</a> <span class=\"age\"><a href=\"item?id=27349947\">9 hours ago</a></span> <span id=\"unv_27349947\"></span> | <a href=\"hide?id=27349947&amp;goto=news\">hide</a> | <a href=\"item?id=27349947\">37&nbsp;comments</a>              </td></tr>\n",
      "      <tr class=\"spacer\" style=\"height:5px\"></tr>\n",
      "                <tr class='athing' id='27345784'>\n",
      "      <td align=\"right\" valign=\"top\" class=\"title\"><span class=\"rank\">17.</span></td>      <td valign=\"top\" class=\"votelinks\"><center><a id='up_27345784' href='vote?id=27345784&amp;how=up&amp;goto=news'><div class='votearrow' title='upvote'></div></a></center></td><td class=\"title\"><a href=\"https://surjan.substack.com/p/the-most-expensive-number-in-engineering\" class=\"storylink\">The most expensive number in engineering</a><span class=\"sitebit comhead\"> (<a href=\"from?site=surjan.substack.com\"><span class=\"sitestr\">surjan.substack.com</span></a>)</span></td></tr><tr><td colspan=\"2\"></td><td class=\"subtext\">\n",
      "        <span class=\"score\" id=\"score_27345784\">451 points</span> by <a href=\"user?id=as89\" class=\"hnuser\">as89</a> <span class=\"age\"><a href=\"item?id=27345784\">18 hours ago</a></span> <span id=\"unv_27345784\"></span> | <a href=\"hide?id=27345784&amp;goto=news\">hide</a> | <a href=\"item?id=27345784\">141&nbsp;comments</a>              </td></tr>\n",
      "      <tr class=\"spacer\" style=\"height:5px\"></tr>\n",
      "                <tr class='athing' id='27343609'>\n",
      "      <td align=\"right\" valign=\"top\" class=\"title\"><span class=\"rank\">18.</span></td>      <td valign=\"top\" class=\"votelinks\"><center><a id='up_27343609' href='vote?id=27343609&amp;how=up&amp;goto=news'><div class='votearrow' title='upvote'></div></a></center></td><td class=\"title\"><a href=\"https://people.ohio.edu/postr/bapix/HLegacy.htm\" class=\"storylink\">The Heathkit Legacy (2013)</a><span class=\"sitebit comhead\"> (<a href=\"from?site=ohio.edu\"><span class=\"sitestr\">ohio.edu</span></a>)</span></td></tr><tr><td colspan=\"2\"></td><td class=\"subtext\">\n",
      "        <span class=\"score\" id=\"score_27343609\">56 points</span> by <a href=\"user?id=dcminter\" class=\"hnuser\">dcminter</a> <span class=\"age\"><a href=\"item?id=27343609\">13 hours ago</a></span> <span id=\"unv_27343609\"></span> | <a href=\"hide?id=27343609&amp;goto=news\">hide</a> | <a href=\"item?id=27343609\">26&nbsp;comments</a>              </td></tr>\n",
      "      <tr class=\"spacer\" style=\"height:5px\"></tr>\n",
      "                <tr class='athing' id='27352284'>\n",
      "      <td align=\"right\" valign=\"top\" class=\"title\"><span class=\"rank\">19.</span></td>      <td valign=\"top\" class=\"votelinks\"><center><a id='up_27352284' href='vote?id=27352284&amp;how=up&amp;goto=news'><div class='votearrow' title='upvote'></div></a></center></td><td class=\"title\"><a href=\"https://www.nytimes.com/2021/05/31/well/mind/sleep-apnea-treatment-mouth-guard.html\" class=\"storylink\">For Sleep Apnea, a Mouth Guard May Be a Good Alternative to CPAP</a><span class=\"sitebit comhead\"> (<a href=\"from?site=nytimes.com\"><span class=\"sitestr\">nytimes.com</span></a>)</span></td></tr><tr><td colspan=\"2\"></td><td class=\"subtext\">\n",
      "        <span class=\"score\" id=\"score_27352284\">12 points</span> by <a href=\"user?id=bookofjoe\" class=\"hnuser\">bookofjoe</a> <span class=\"age\"><a href=\"item?id=27352284\">1 hour ago</a></span> <span id=\"unv_27352284\"></span> | <a href=\"hide?id=27352284&amp;goto=news\">hide</a> | <a href=\"item?id=27352284\">6&nbsp;comments</a>              </td></tr>\n",
      "      <tr class=\"spacer\" style=\"height:5px\"></tr>\n",
      "                <tr class='athing' id='27351769'>\n",
      "      <td align=\"right\" valign=\"top\" class=\"title\"><span class=\"rank\">20.</span></td>      <td valign=\"top\" class=\"votelinks\"><center><a id='up_27351769' href='vote?id=27351769&amp;how=up&amp;goto=news'><div class='votearrow' title='upvote'></div></a></center></td><td class=\"title\"><a href=\"https://www.reuters.com/business/finance/eu-set-unveil-plans-bloc-wide-digital-wallet-ft-2021-06-01/\" class=\"storylink\">EU set to unveil plans for bloc-wide digital wallet for various services</a><span class=\"sitebit comhead\"> (<a href=\"from?site=reuters.com\"><span class=\"sitestr\">reuters.com</span></a>)</span></td></tr><tr><td colspan=\"2\"></td><td class=\"subtext\">\n",
      "        <span class=\"score\" id=\"score_27351769\">62 points</span> by <a href=\"user?id=giuliomagnifico\" class=\"hnuser\">giuliomagnifico</a> <span class=\"age\"><a href=\"item?id=27351769\">3 hours ago</a></span> <span id=\"unv_27351769\"></span> | <a href=\"hide?id=27351769&amp;goto=news\">hide</a> | <a href=\"item?id=27351769\">103&nbsp;comments</a>              </td></tr>\n",
      "      <tr class=\"spacer\" style=\"height:5px\"></tr>\n",
      "                <tr class='athing' id='27347035'>\n",
      "      <td align=\"right\" valign=\"top\" class=\"title\"><span class=\"rank\">21.</span></td>      <td valign=\"top\" class=\"votelinks\"><center><a id='up_27347035' href='vote?id=27347035&amp;how=up&amp;goto=news'><div class='votearrow' title='upvote'></div></a></center></td><td class=\"title\"><a href=\"https://annagat.substack.com/p/on-smoking\" class=\"storylink\">On Smoking</a><span class=\"sitebit comhead\"> (<a href=\"from?site=annagat.substack.com\"><span class=\"sitestr\">annagat.substack.com</span></a>)</span></td></tr><tr><td colspan=\"2\"></td><td class=\"subtext\">\n",
      "        <span class=\"score\" id=\"score_27347035\">296 points</span> by <a href=\"user?id=exolymph\" class=\"hnuser\">exolymph</a> <span class=\"age\"><a href=\"item?id=27347035\">16 hours ago</a></span> <span id=\"unv_27347035\"></span> | <a href=\"hide?id=27347035&amp;goto=news\">hide</a> | <a href=\"item?id=27347035\">316&nbsp;comments</a>              </td></tr>\n",
      "      <tr class=\"spacer\" style=\"height:5px\"></tr>\n",
      "                <tr class='athing' id='27345075'>\n",
      "      <td align=\"right\" valign=\"top\" class=\"title\"><span class=\"rank\">22.</span></td>      <td valign=\"top\" class=\"votelinks\"><center><a id='up_27345075' href='vote?id=27345075&amp;how=up&amp;goto=news'><div class='votearrow' title='upvote'></div></a></center></td><td class=\"title\"><a href=\"https://www.butwhatfor.com/admiral-yarnell-and-an-attack-on-pearl-harbor/\" class=\"storylink\">We only ever talk about the third attack on Pearl Harbor</a><span class=\"sitebit comhead\"> (<a href=\"from?site=butwhatfor.com\"><span class=\"sitestr\">butwhatfor.com</span></a>)</span></td></tr><tr><td colspan=\"2\"></td><td class=\"subtext\">\n",
      "        <span class=\"score\" id=\"score_27345075\">365 points</span> by <a href=\"user?id=stanrivers\" class=\"hnuser\">stanrivers</a> <span class=\"age\"><a href=\"item?id=27345075\">19 hours ago</a></span> <span id=\"unv_27345075\"></span> | <a href=\"hide?id=27345075&amp;goto=news\">hide</a> | <a href=\"item?id=27345075\">185&nbsp;comments</a>              </td></tr>\n",
      "      <tr class=\"spacer\" style=\"height:5px\"></tr>\n",
      "                <tr class='athing' id='27349327'>\n",
      "      <td align=\"right\" valign=\"top\" class=\"title\"><span class=\"rank\">23.</span></td>      <td valign=\"top\" class=\"votelinks\"><center><a id='up_27349327' href='vote?id=27349327&amp;how=up&amp;goto=news'><div class='votearrow' title='upvote'></div></a></center></td><td class=\"title\"><a href=\"https://www.biorxiv.org/content/10.1101/2021.05.26.445798v1\" class=\"storylink\">The complete sequence of a human genome</a><span class=\"sitebit comhead\"> (<a href=\"from?site=biorxiv.org\"><span class=\"sitestr\">biorxiv.org</span></a>)</span></td></tr><tr><td colspan=\"2\"></td><td class=\"subtext\">\n",
      "        <span class=\"score\" id=\"score_27349327\">26 points</span> by <a href=\"user?id=amingilani\" class=\"hnuser\">amingilani</a> <span class=\"age\"><a href=\"item?id=27349327\">11 hours ago</a></span> <span id=\"unv_27349327\"></span> | <a href=\"hide?id=27349327&amp;goto=news\">hide</a> | <a href=\"item?id=27349327\">4&nbsp;comments</a>              </td></tr>\n",
      "      <tr class=\"spacer\" style=\"height:5px\"></tr>\n",
      "                <tr class='athing' id='27352325'>\n",
      "      <td align=\"right\" valign=\"top\" class=\"title\"><span class=\"rank\">24.</span></td>      <td valign=\"top\" class=\"votelinks\"><center><a id='up_27352325' href='vote?id=27352325&amp;how=up&amp;goto=news'><div class='votearrow' title='upvote'></div></a></center></td><td class=\"title\"><a href=\"https://groups.google.com/g/comp.lang.tcl\" class=\"storylink\">Google Groups has banned comp.lang.tcl</a><span class=\"sitebit comhead\"> (<a href=\"from?site=groups.google.com\"><span class=\"sitestr\">groups.google.com</span></a>)</span></td></tr><tr><td colspan=\"2\"></td><td class=\"subtext\">\n",
      "        <span class=\"score\" id=\"score_27352325\">60 points</span> by <a href=\"user?id=networked\" class=\"hnuser\">networked</a> <span class=\"age\"><a href=\"item?id=27352325\">1 hour ago</a></span> <span id=\"unv_27352325\"></span> | <a href=\"hide?id=27352325&amp;goto=news\">hide</a> | <a href=\"item?id=27352325\">48&nbsp;comments</a>              </td></tr>\n",
      "      <tr class=\"spacer\" style=\"height:5px\"></tr>\n",
      "                <tr class='athing' id='27347935'>\n",
      "      <td align=\"right\" valign=\"top\" class=\"title\"><span class=\"rank\">25.</span></td>      <td valign=\"top\" class=\"votelinks\"><center><a id='up_27347935' href='vote?id=27347935&amp;how=up&amp;goto=news'><div class='votearrow' title='upvote'></div></a></center></td><td class=\"title\"><a href=\"https://slantbooks.com/close-reading/essays/the-dunce/\" class=\"storylink\" rel=\"nofollow\">The Dunce</a><span class=\"sitebit comhead\"> (<a href=\"from?site=slantbooks.com\"><span class=\"sitestr\">slantbooks.com</span></a>)</span></td></tr><tr><td colspan=\"2\"></td><td class=\"subtext\">\n",
      "        <span class=\"score\" id=\"score_27347935\">6 points</span> by <a href=\"user?id=savebykilling\" class=\"hnuser\">savebykilling</a> <span class=\"age\"><a href=\"item?id=27347935\">4 hours ago</a></span> <span id=\"unv_27347935\"></span> | <a href=\"hide?id=27347935&amp;goto=news\">hide</a> | <a href=\"item?id=27347935\">discuss</a>              </td></tr>\n",
      "      <tr class=\"spacer\" style=\"height:5px\"></tr>\n",
      "                <tr class='athing' id='27344639'>\n",
      "      <td align=\"right\" valign=\"top\" class=\"title\"><span class=\"rank\">26.</span></td>      <td valign=\"top\" class=\"votelinks\"><center><a id='up_27344639' href='vote?id=27344639&amp;how=up&amp;goto=news'><div class='votearrow' title='upvote'></div></a></center></td><td class=\"title\"><a href=\"http://blog.cleverelephant.ca/2021/05/postgis-20-years.html\" class=\"storylink\">PostGIS at 20, the Beginning</a><span class=\"sitebit comhead\"> (<a href=\"from?site=cleverelephant.ca\"><span class=\"sitestr\">cleverelephant.ca</span></a>)</span></td></tr><tr><td colspan=\"2\"></td><td class=\"subtext\">\n",
      "        <span class=\"score\" id=\"score_27344639\">286 points</span> by <a href=\"user?id=jkatz05\" class=\"hnuser\">jkatz05</a> <span class=\"age\"><a href=\"item?id=27344639\">20 hours ago</a></span> <span id=\"unv_27344639\"></span> | <a href=\"hide?id=27344639&amp;goto=news\">hide</a> | <a href=\"item?id=27344639\">31&nbsp;comments</a>              </td></tr>\n",
      "      <tr class=\"spacer\" style=\"height:5px\"></tr>\n",
      "                <tr class='athing' id='27342763'>\n",
      "      <td align=\"right\" valign=\"top\" class=\"title\"><span class=\"rank\">27.</span></td>      <td valign=\"top\" class=\"votelinks\"><center><a id='up_27342763' href='vote?id=27342763&amp;how=up&amp;goto=news'><div class='votearrow' title='upvote'></div></a></center></td><td class=\"title\"><a href=\"https://www.nationalgeographic.com/animals/article/chinese-paddlefish-one-of-largest-fish-extinct?loggedin=true\" class=\"storylink\">Chinese paddlefish, one of the world's largest fish, declared extinct</a><span class=\"sitebit comhead\"> (<a href=\"from?site=nationalgeographic.com\"><span class=\"sitestr\">nationalgeographic.com</span></a>)</span></td></tr><tr><td colspan=\"2\"></td><td class=\"subtext\">\n",
      "        <span class=\"score\" id=\"score_27342763\">275 points</span> by <a href=\"user?id=gadf\" class=\"hnuser\">gadf</a> <span class=\"age\"><a href=\"item?id=27342763\">1 day ago</a></span> <span id=\"unv_27342763\"></span> | <a href=\"hide?id=27342763&amp;goto=news\">hide</a> | <a href=\"item?id=27342763\">169&nbsp;comments</a>              </td></tr>\n",
      "      <tr class=\"spacer\" style=\"height:5px\"></tr>\n",
      "                <tr class='athing' id='27332869'>\n",
      "      <td align=\"right\" valign=\"top\" class=\"title\"><span class=\"rank\">28.</span></td>      <td valign=\"top\" class=\"votelinks\"><center><a id='up_27332869' href='vote?id=27332869&amp;how=up&amp;goto=news'><div class='votearrow' title='upvote'></div></a></center></td><td class=\"title\"><a href=\"https://www.nytimes.com/2021/05/30/arts/bacteria-cleaning-michelangelo-medici-restoration.html\" class=\"storylink\">Send in the bugs, the Michelangelos need cleaning</a><span class=\"sitebit comhead\"> (<a href=\"from?site=nytimes.com\"><span class=\"sitestr\">nytimes.com</span></a>)</span></td></tr><tr><td colspan=\"2\"></td><td class=\"subtext\">\n",
      "        <span class=\"score\" id=\"score_27332869\">49 points</span> by <a href=\"user?id=axiomdata316\" class=\"hnuser\">axiomdata316</a> <span class=\"age\"><a href=\"item?id=27332869\">12 hours ago</a></span> <span id=\"unv_27332869\"></span> | <a href=\"hide?id=27332869&amp;goto=news\">hide</a> | <a href=\"item?id=27332869\">4&nbsp;comments</a>              </td></tr>\n",
      "      <tr class=\"spacer\" style=\"height:5px\"></tr>\n",
      "                <tr class='athing' id='27342206'>\n",
      "      <td align=\"right\" valign=\"top\" class=\"title\"><span class=\"rank\">29.</span></td>      <td valign=\"top\" class=\"votelinks\"><center><a id='up_27342206' href='vote?id=27342206&amp;how=up&amp;goto=news'><div class='votearrow' title='upvote'></div></a></center></td><td class=\"title\"><a href=\"https://unherd.com/2021/05/what-oxford-taught-me-about-posh-people/\" class=\"storylink\">What Oxford taught me about posh people</a><span class=\"sitebit comhead\"> (<a href=\"from?site=unherd.com\"><span class=\"sitestr\">unherd.com</span></a>)</span></td></tr><tr><td colspan=\"2\"></td><td class=\"subtext\">\n",
      "        <span class=\"score\" id=\"score_27342206\">220 points</span> by <a href=\"user?id=hownottowrite\" class=\"hnuser\">hownottowrite</a> <span class=\"age\"><a href=\"item?id=27342206\">22 hours ago</a></span> <span id=\"unv_27342206\"></span> | <a href=\"hide?id=27342206&amp;goto=news\">hide</a> | <a href=\"item?id=27342206\">235&nbsp;comments</a>              </td></tr>\n",
      "      <tr class=\"spacer\" style=\"height:5px\"></tr>\n",
      "                <tr class='athing' id='27347039'>\n",
      "      <td align=\"right\" valign=\"top\" class=\"title\"><span class=\"rank\">30.</span></td>      <td valign=\"top\" class=\"votelinks\"><center><a id='up_27347039' href='vote?id=27347039&amp;how=up&amp;goto=news'><div class='votearrow' title='upvote'></div></a></center></td><td class=\"title\"><a href=\"https://www.datasecretslox.com/index.php/topic,3506.0.html?PHPSESSID=d15c31b38395146f6e114073ff5a02d1\" class=\"storylink\">The May 18 Gwangju Uprising</a><span class=\"sitebit comhead\"> (<a href=\"from?site=datasecretslox.com\"><span class=\"sitestr\">datasecretslox.com</span></a>)</span></td></tr><tr><td colspan=\"2\"></td><td class=\"subtext\">\n",
      "        <span class=\"score\" id=\"score_27347039\">195 points</span> by <a href=\"user?id=exolymph\" class=\"hnuser\">exolymph</a> <span class=\"age\"><a href=\"item?id=27347039\">16 hours ago</a></span> <span id=\"unv_27347039\"></span> | <a href=\"hide?id=27347039&amp;goto=news\">hide</a> | <a href=\"item?id=27347039\">76&nbsp;comments</a>              </td></tr>\n",
      "      <tr class=\"spacer\" style=\"height:5px\"></tr>\n",
      "            <tr class=\"morespace\" style=\"height:10px\"></tr><tr><td colspan=\"2\"></td><td class=\"title\"><a href=\"news?p=2\" class=\"morelink\" rel=\"next\">More</a></td></tr>\n",
      "  </table>\n",
      "</td></tr>\n",
      "<tr><td><img src=\"s.gif\" height=\"10\" width=\"0\"><table width=\"100%\" cellspacing=\"0\" cellpadding=\"1\"><tr><td bgcolor=\"#ff6600\"></td></tr></table><br><center><span class=\"yclinks\"><a href=\"newsguidelines.html\">Guidelines</a>\n",
      "        | <a href=\"newsfaq.html\">FAQ</a>\n",
      "        | <a href=\"lists\">Lists</a>\n",
      "        | <a href=\"https://github.com/HackerNews/API\">API</a>\n",
      "        | <a href=\"security.html\">Security</a>\n",
      "        | <a href=\"http://www.ycombinator.com/legal/\">Legal</a>\n",
      "        | <a href=\"http://www.ycombinator.com/apply/\">Apply to YC</a>\n",
      "        | <a href=\"mailto:hn@ycombinator.com\">Contact</a></span><br><br><form method=\"get\" action=\"//hn.algolia.com/\">Search:\n",
      "          <input type=\"text\" name=\"q\" value=\"\" size=\"17\" autocorrect=\"off\" spellcheck=\"false\" autocapitalize=\"off\" autocomplete=\"false\"></form>\n",
      "            </center></td></tr>\n",
      "      </table></center></body><script type='text/javascript' src='hn.js?Y4n5laKbPqW98Lfx2gD2'></script></html>\n",
      "\n"
     ]
    }
   ],
   "source": [
    "import requests\n",
    "\n",
    "# Fetch a web page\n",
    "r = requests.get(\"https://news.ycombinator.com\")\n",
    "print(r.text)"
   ]
  },
  {
   "cell_type": "code",
   "execution_count": 5,
   "metadata": {},
   "outputs": [
    {
     "name": "stdout",
     "output_type": "stream",
     "text": [
      "\n",
      "        \n",
      "          \n",
      "        Hacker News\n",
      "        \n",
      "                  Hacker News\n",
      "              new | past | comments | ask | show | jobs | submit            \n",
      "                              login\n",
      "                          \n",
      "              \n",
      "\n",
      "              \n",
      "      1.      Why electric cars will take over sooner than you think (bbc.co.uk)\n",
      "        13 points by Kaibeezy 25 minutes ago  | hide | discuss              \n",
      "      \n",
      "                \n",
      "      2.      AMD Demonstrates Stacked 3D V-Cache Technology: 192 MB at 2 TB/SEC (anandtech.com)\n",
      "        268 points by zdw 7 hours ago  | hide | 96&nbsp;comments              \n",
      "      \n",
      "                \n",
      "      3.      Mars: NASA's Perseverance rover's first 100 days in pictures (bbc.co.uk)\n",
      "        4 points by rwmj 19 minutes ago  | hide | discuss              \n",
      "      \n",
      "                \n",
      "      4.      Pynguin – Generate Python unit tests automatically (github.com/se2p)\n",
      "        100 points by JNRowe 8 hours ago  | hide | 48&nbsp;comments              \n",
      "      \n",
      "                \n",
      "      5.      Rejection Sensitivity (defaultfriend.substack.com)\n",
      "        18 points by exolymph 3 hours ago  | hide | 10&nbsp;comments              \n",
      "      \n",
      "                \n",
      "      6.      NVMe over Fabrics Explained (westerndigital.com)\n",
      "        62 points by nickysielicki 8 hours ago  | hide | 8&nbsp;comments              \n",
      "      \n",
      "                \n",
      "      7.      Swiss Covid Certificate – Technical documentation of the swiss Covid certificate (github.com/admin-ch)\n",
      "        26 points by shashasha2 2 hours ago  | hide | 6&nbsp;comments              \n",
      "      \n",
      "                \n",
      "      8.      Caught in the Study Web (every.to)\n",
      "        75 points by exolymph 9 hours ago  | hide | 11&nbsp;comments              \n",
      "      \n",
      "                \n",
      "      9.      Making Wi-Fi serial console adapters with old portable routers (sagacioussuricata.com)\n",
      "        46 points by zdw 7 hours ago  | hide | 9&nbsp;comments              \n",
      "      \n",
      "                \n",
      "      10.      Raspberry Silicon update: RP2040 on sale now at $1 (raspberrypi.org)\n",
      "        51 points by crispinh 4 hours ago  | hide | 12&nbsp;comments              \n",
      "      \n",
      "                \n",
      "      11.      How to Speak Cicada (insidescience.org)\n",
      "        24 points by redeemed 7 hours ago  | hide | 5&nbsp;comments              \n",
      "      \n",
      "                \n",
      "      12.      High-Resolution Photorealistic Image Translation in Real-Time (louisbouchard.ai)\n",
      "        42 points by jonbaer 9 hours ago  | hide | 10&nbsp;comments              \n",
      "      \n",
      "                \n",
      "      13.      Rethinking the computer ‘desktop’ as a concept (onezero.medium.com)\n",
      "        366 points by todsacerdoti 15 hours ago  | hide | 469&nbsp;comments              \n",
      "      \n",
      "                \n",
      "      14.      Deepnote (YC S19) Is Hiring (SF, Prague) (deepnote.com)\n",
      "        4 hours ago | hide      \n",
      "      \n",
      "                \n",
      "      15.      Oceanbase, yet another open source HTAP database (github.com/oceanbase)\n",
      "        35 points by jinqueeny 8 hours ago  | hide | 8&nbsp;comments              \n",
      "      \n",
      "                \n",
      "      16.      Sevenhugs exits the universal remote business (sevenhugs.com)\n",
      "        41 points by jsjohnst 9 hours ago  | hide | 37&nbsp;comments              \n",
      "      \n",
      "                \n",
      "      17.      The most expensive number in engineering (surjan.substack.com)\n",
      "        451 points by as89 18 hours ago  | hide | 141&nbsp;comments              \n",
      "      \n",
      "                \n",
      "      18.      The Heathkit Legacy (2013) (ohio.edu)\n",
      "        56 points by dcminter 13 hours ago  | hide | 26&nbsp;comments              \n",
      "      \n",
      "                \n",
      "      19.      For Sleep Apnea, a Mouth Guard May Be a Good Alternative to CPAP (nytimes.com)\n",
      "        12 points by bookofjoe 1 hour ago  | hide | 6&nbsp;comments              \n",
      "      \n",
      "                \n",
      "      20.      EU set to unveil plans for bloc-wide digital wallet for various services (reuters.com)\n",
      "        62 points by giuliomagnifico 3 hours ago  | hide | 103&nbsp;comments              \n",
      "      \n",
      "                \n",
      "      21.      On Smoking (annagat.substack.com)\n",
      "        296 points by exolymph 16 hours ago  | hide | 316&nbsp;comments              \n",
      "      \n",
      "                \n",
      "      22.      We only ever talk about the third attack on Pearl Harbor (butwhatfor.com)\n",
      "        365 points by stanrivers 19 hours ago  | hide | 185&nbsp;comments              \n",
      "      \n",
      "                \n",
      "      23.      The complete sequence of a human genome (biorxiv.org)\n",
      "        26 points by amingilani 11 hours ago  | hide | 4&nbsp;comments              \n",
      "      \n",
      "                \n",
      "      24.      Google Groups has banned comp.lang.tcl (groups.google.com)\n",
      "        60 points by networked 1 hour ago  | hide | 48&nbsp;comments              \n",
      "      \n",
      "                \n",
      "      25.      The Dunce (slantbooks.com)\n",
      "        6 points by savebykilling 4 hours ago  | hide | discuss              \n",
      "      \n",
      "                \n",
      "      26.      PostGIS at 20, the Beginning (cleverelephant.ca)\n",
      "        286 points by jkatz05 20 hours ago  | hide | 31&nbsp;comments              \n",
      "      \n",
      "                \n",
      "      27.      Chinese paddlefish, one of the world's largest fish, declared extinct (nationalgeographic.com)\n",
      "        275 points by gadf 1 day ago  | hide | 169&nbsp;comments              \n",
      "      \n",
      "                \n",
      "      28.      Send in the bugs, the Michelangelos need cleaning (nytimes.com)\n",
      "        49 points by axiomdata316 12 hours ago  | hide | 4&nbsp;comments              \n",
      "      \n",
      "                \n",
      "      29.      What Oxford taught me about posh people (unherd.com)\n",
      "        220 points by hownottowrite 22 hours ago  | hide | 235&nbsp;comments              \n",
      "      \n",
      "                \n",
      "      30.      The May 18 Gwangju Uprising (datasecretslox.com)\n",
      "        195 points by exolymph 16 hours ago  | hide | 76&nbsp;comments              \n",
      "      \n",
      "            More\n",
      "  \n",
      "\n",
      "Guidelines\n",
      "        | FAQ\n",
      "        | Lists\n",
      "        | API\n",
      "        | Security\n",
      "        | Legal\n",
      "        | Apply to YC\n",
      "        | ContactSearch:\n",
      "          \n",
      "            \n",
      "      \n",
      "\n"
     ]
    }
   ],
   "source": [
    "import re\n",
    "\n",
    "# Remove HTML tags using RegEx\n",
    "pattern = re.compile(r'<.*?>')  # tags look like <...>\n",
    "print(pattern.sub('', r.text))  # replace them with blank"
   ]
  },
  {
   "cell_type": "code",
   "execution_count": 6,
   "metadata": {},
   "outputs": [
    {
     "name": "stdout",
     "output_type": "stream",
     "text": [
      "\n",
      "        \n",
      "          \n",
      "        Hacker News\n",
      "        \n",
      "                  Hacker News\n",
      "              new | past | comments | ask | show | jobs | submit            \n",
      "                              login\n",
      "                          \n",
      "              \n",
      "\n",
      "              \n",
      "      1.      Why electric cars will take over sooner than you think (bbc.co.uk)\n",
      "        13 points by Kaibeezy 25 minutes ago  | hide | discuss              \n",
      "      \n",
      "                \n",
      "      2.      AMD Demonstrates Stacked 3D V-Cache Technology: 192 MB at 2 TB/SEC (anandtech.com)\n",
      "        268 points by zdw 7 hours ago  | hide | 96 comments              \n",
      "      \n",
      "                \n",
      "      3.      Mars: NASA's Perseverance rover's first 100 days in pictures (bbc.co.uk)\n",
      "        4 points by rwmj 19 minutes ago  | hide | discuss              \n",
      "      \n",
      "                \n",
      "      4.      Pynguin – Generate Python unit tests automatically (github.com/se2p)\n",
      "        100 points by JNRowe 8 hours ago  | hide | 48 comments              \n",
      "      \n",
      "                \n",
      "      5.      Rejection Sensitivity (defaultfriend.substack.com)\n",
      "        18 points by exolymph 3 hours ago  | hide | 10 comments              \n",
      "      \n",
      "                \n",
      "      6.      NVMe over Fabrics Explained (westerndigital.com)\n",
      "        62 points by nickysielicki 8 hours ago  | hide | 8 comments              \n",
      "      \n",
      "                \n",
      "      7.      Swiss Covid Certificate – Technical documentation of the swiss Covid certificate (github.com/admin-ch)\n",
      "        26 points by shashasha2 2 hours ago  | hide | 6 comments              \n",
      "      \n",
      "                \n",
      "      8.      Caught in the Study Web (every.to)\n",
      "        75 points by exolymph 9 hours ago  | hide | 11 comments              \n",
      "      \n",
      "                \n",
      "      9.      Making Wi-Fi serial console adapters with old portable routers (sagacioussuricata.com)\n",
      "        46 points by zdw 7 hours ago  | hide | 9 comments              \n",
      "      \n",
      "                \n",
      "      10.      Raspberry Silicon update: RP2040 on sale now at $1 (raspberrypi.org)\n",
      "        51 points by crispinh 4 hours ago  | hide | 12 comments              \n",
      "      \n",
      "                \n",
      "      11.      How to Speak Cicada (insidescience.org)\n",
      "        24 points by redeemed 7 hours ago  | hide | 5 comments              \n",
      "      \n",
      "                \n",
      "      12.      High-Resolution Photorealistic Image Translation in Real-Time (louisbouchard.ai)\n",
      "        42 points by jonbaer 9 hours ago  | hide | 10 comments              \n",
      "      \n",
      "                \n",
      "      13.      Rethinking the computer ‘desktop’ as a concept (onezero.medium.com)\n",
      "        366 points by todsacerdoti 15 hours ago  | hide | 469 comments              \n",
      "      \n",
      "                \n",
      "      14.      Deepnote (YC S19) Is Hiring (SF, Prague) (deepnote.com)\n",
      "        4 hours ago | hide      \n",
      "      \n",
      "                \n",
      "      15.      Oceanbase, yet another open source HTAP database (github.com/oceanbase)\n",
      "        35 points by jinqueeny 8 hours ago  | hide | 8 comments              \n",
      "      \n",
      "                \n",
      "      16.      Sevenhugs exits the universal remote business (sevenhugs.com)\n",
      "        41 points by jsjohnst 9 hours ago  | hide | 37 comments              \n",
      "      \n",
      "                \n",
      "      17.      The most expensive number in engineering (surjan.substack.com)\n",
      "        451 points by as89 18 hours ago  | hide | 141 comments              \n",
      "      \n",
      "                \n",
      "      18.      The Heathkit Legacy (2013) (ohio.edu)\n",
      "        56 points by dcminter 13 hours ago  | hide | 26 comments              \n",
      "      \n",
      "                \n",
      "      19.      For Sleep Apnea, a Mouth Guard May Be a Good Alternative to CPAP (nytimes.com)\n",
      "        12 points by bookofjoe 1 hour ago  | hide | 6 comments              \n",
      "      \n",
      "                \n",
      "      20.      EU set to unveil plans for bloc-wide digital wallet for various services (reuters.com)\n",
      "        62 points by giuliomagnifico 3 hours ago  | hide | 103 comments              \n",
      "      \n",
      "                \n",
      "      21.      On Smoking (annagat.substack.com)\n",
      "        296 points by exolymph 16 hours ago  | hide | 316 comments              \n",
      "      \n",
      "                \n",
      "      22.      We only ever talk about the third attack on Pearl Harbor (butwhatfor.com)\n",
      "        365 points by stanrivers 19 hours ago  | hide | 185 comments              \n",
      "      \n",
      "                \n",
      "      23.      The complete sequence of a human genome (biorxiv.org)\n",
      "        26 points by amingilani 11 hours ago  | hide | 4 comments              \n",
      "      \n",
      "                \n",
      "      24.      Google Groups has banned comp.lang.tcl (groups.google.com)\n",
      "        60 points by networked 1 hour ago  | hide | 48 comments              \n",
      "      \n",
      "                \n",
      "      25.      The Dunce (slantbooks.com)\n",
      "        6 points by savebykilling 4 hours ago  | hide | discuss              \n",
      "      \n",
      "                \n",
      "      26.      PostGIS at 20, the Beginning (cleverelephant.ca)\n",
      "        286 points by jkatz05 20 hours ago  | hide | 31 comments              \n",
      "      \n",
      "                \n",
      "      27.      Chinese paddlefish, one of the world's largest fish, declared extinct (nationalgeographic.com)\n",
      "        275 points by gadf 1 day ago  | hide | 169 comments              \n",
      "      \n",
      "                \n",
      "      28.      Send in the bugs, the Michelangelos need cleaning (nytimes.com)\n",
      "        49 points by axiomdata316 12 hours ago  | hide | 4 comments              \n",
      "      \n",
      "                \n",
      "      29.      What Oxford taught me about posh people (unherd.com)\n",
      "        220 points by hownottowrite 22 hours ago  | hide | 235 comments              \n",
      "      \n",
      "                \n",
      "      30.      The May 18 Gwangju Uprising (datasecretslox.com)\n",
      "        195 points by exolymph 16 hours ago  | hide | 76 comments              \n",
      "      \n",
      "            More\n",
      "  \n",
      "\n",
      "Guidelines\n",
      "        | FAQ\n",
      "        | Lists\n",
      "        | API\n",
      "        | Security\n",
      "        | Legal\n",
      "        | Apply to YC\n",
      "        | ContactSearch:\n",
      "          \n",
      "            \n",
      "      \n",
      "\n"
     ]
    }
   ],
   "source": [
    "from bs4 import BeautifulSoup\n",
    "\n",
    "# Remove HTML tags using Beautiful Soup library\n",
    "soup = BeautifulSoup(r.text, \"html5lib\")\n",
    "print(soup.get_text())"
   ]
  },
  {
   "cell_type": "code",
   "execution_count": 7,
   "metadata": {
    "scrolled": true
   },
   "outputs": [
    {
     "data": {
      "text/plain": [
       "<tr class=\"athing\" id=\"27352700\">\n",
       "      <td align=\"right\" class=\"title\" valign=\"top\"><span class=\"rank\">1.</span></td>      <td class=\"votelinks\" valign=\"top\"><center><a href=\"vote?id=27352700&amp;how=up&amp;goto=news\" id=\"up_27352700\"><div class=\"votearrow\" title=\"upvote\"></div></a></center></td><td class=\"title\"><a class=\"storylink\" href=\"https://www.bbc.co.uk/news/business-57253947\">Why electric cars will take over sooner than you think</a><span class=\"sitebit comhead\"> (<a href=\"from?site=bbc.co.uk\"><span class=\"sitestr\">bbc.co.uk</span></a>)</span></td></tr>"
      ]
     },
     "execution_count": 7,
     "metadata": {},
     "output_type": "execute_result"
    }
   ],
   "source": [
    "# Find all articles\n",
    "# <tr class=\"athing\" id=\"27352700\">\n",
    "summaries = soup.find_all(\"tr\", class_=\"athing\")\n",
    "summaries[0]"
   ]
  },
  {
   "cell_type": "code",
   "execution_count": 8,
   "metadata": {},
   "outputs": [
    {
     "data": {
      "text/plain": [
       "'Why electric cars will take over sooner than you think'"
      ]
     },
     "execution_count": 8,
     "metadata": {},
     "output_type": "execute_result"
    }
   ],
   "source": [
    "# Extract title\n",
    "summaries[0].find(\"a\", class_=\"storylink\").get_text().strip()"
   ]
  },
  {
   "cell_type": "code",
   "execution_count": 9,
   "metadata": {},
   "outputs": [
    {
     "name": "stdout",
     "output_type": "stream",
     "text": [
      "30 Article summaries found. Sample:\n",
      "Why electric cars will take over sooner than you think\n"
     ]
    }
   ],
   "source": [
    "# Find all articles, extract titles\n",
    "articles = []\n",
    "summaries = soup.find_all(\"tr\", class_=\"athing\")\n",
    "for summary in summaries:\n",
    "    title = summary.find(\"a\", class_=\"storylink\").get_text().strip()\n",
    "    articles.append((title))\n",
    "\n",
    "print(len(articles), \"Article summaries found. Sample:\")\n",
    "print(articles[0])"
   ]
  },
  {
   "cell_type": "markdown",
   "metadata": {
    "collapsed": true
   },
   "source": [
    "## Normalization"
   ]
  },
  {
   "cell_type": "markdown",
   "metadata": {},
   "source": [
    "### Case Normalization"
   ]
  },
  {
   "cell_type": "code",
   "execution_count": 10,
   "metadata": {},
   "outputs": [
    {
     "name": "stdout",
     "output_type": "stream",
     "text": [
      "The first time you see The Second Renaissance it may look boring. Look at it at least twice and definitely watch part 2. It will change your view of the matrix. Are the human people the ones who started the war ? Is AI a bad thing ?\n"
     ]
    }
   ],
   "source": [
    "# Sample text\n",
    "text = \"The first time you see The Second Renaissance it may look boring. Look at it at least twice and definitely watch part 2. It will change your view of the matrix. Are the human people the ones who started the war ? Is AI a bad thing ?\"\n",
    "print(text)"
   ]
  },
  {
   "cell_type": "code",
   "execution_count": 11,
   "metadata": {},
   "outputs": [
    {
     "name": "stdout",
     "output_type": "stream",
     "text": [
      "the first time you see the second renaissance it may look boring. look at it at least twice and definitely watch part 2. it will change your view of the matrix. are the human people the ones who started the war ? is ai a bad thing ?\n"
     ]
    }
   ],
   "source": [
    "# Convert to lowercase\n",
    "text = text.lower() \n",
    "print(text)"
   ]
  },
  {
   "cell_type": "markdown",
   "metadata": {},
   "source": [
    "### Punctuation Removal"
   ]
  },
  {
   "cell_type": "code",
   "execution_count": 12,
   "metadata": {},
   "outputs": [
    {
     "name": "stdout",
     "output_type": "stream",
     "text": [
      "the first time you see the second renaissance it may look boring  look at it at least twice and definitely watch part 2  it will change your view of the matrix  are the human people the ones who started the war   is ai a bad thing  \n"
     ]
    }
   ],
   "source": [
    "import re\n",
    "\n",
    "# Remove punctuation characters\n",
    "text = re.sub(r\"[^a-zA-Z0-9]\", \" \", text) \n",
    "print(text)"
   ]
  },
  {
   "cell_type": "markdown",
   "metadata": {},
   "source": [
    "## Tokenization"
   ]
  },
  {
   "cell_type": "code",
   "execution_count": 13,
   "metadata": {},
   "outputs": [
    {
     "name": "stdout",
     "output_type": "stream",
     "text": [
      "['the', 'first', 'time', 'you', 'see', 'the', 'second', 'renaissance', 'it', 'may', 'look', 'boring', 'look', 'at', 'it', 'at', 'least', 'twice', 'and', 'definitely', 'watch', 'part', '2', 'it', 'will', 'change', 'your', 'view', 'of', 'the', 'matrix', 'are', 'the', 'human', 'people', 'the', 'ones', 'who', 'started', 'the', 'war', 'is', 'ai', 'a', 'bad', 'thing']\n"
     ]
    }
   ],
   "source": [
    "# Split text into tokens (words)\n",
    "words = text.split()\n",
    "print(words)"
   ]
  },
  {
   "cell_type": "markdown",
   "metadata": {},
   "source": [
    "### NLTK: Natural Language ToolKit"
   ]
  },
  {
   "cell_type": "code",
   "execution_count": 14,
   "metadata": {},
   "outputs": [],
   "source": [
    "import os\n",
    "import nltk\n",
    "nltk.data.path.append(os.path.join(os.getcwd(), \"nltk_data\"))"
   ]
  },
  {
   "cell_type": "code",
   "execution_count": 15,
   "metadata": {},
   "outputs": [
    {
     "name": "stdout",
     "output_type": "stream",
     "text": [
      "Dr. Smith graduated from the University of Washington. He later started an analytics firm called Lux, which catered to enterprise customers.\n"
     ]
    }
   ],
   "source": [
    "# Another sample text\n",
    "text = \"Dr. Smith graduated from the University of Washington. He later started an analytics firm called Lux, which catered to enterprise customers.\"\n",
    "print(text)"
   ]
  },
  {
   "cell_type": "code",
   "execution_count": 16,
   "metadata": {},
   "outputs": [
    {
     "name": "stdout",
     "output_type": "stream",
     "text": [
      "['Dr.', 'Smith', 'graduated', 'from', 'the', 'University', 'of', 'Washington', '.', 'He', 'later', 'started', 'an', 'analytics', 'firm', 'called', 'Lux', ',', 'which', 'catered', 'to', 'enterprise', 'customers', '.']\n"
     ]
    }
   ],
   "source": [
    "from nltk.tokenize import word_tokenize\n",
    "\n",
    "# Split text into words using NLTK\n",
    "words = word_tokenize(text)\n",
    "print(words)"
   ]
  },
  {
   "cell_type": "code",
   "execution_count": 17,
   "metadata": {},
   "outputs": [
    {
     "name": "stdout",
     "output_type": "stream",
     "text": [
      "['Dr. Smith graduated from the University of Washington.', 'He later started an analytics firm called Lux, which catered to enterprise customers.']\n"
     ]
    }
   ],
   "source": [
    "from nltk.tokenize import sent_tokenize\n",
    "\n",
    "# Split text into sentences\n",
    "sentences = sent_tokenize(text)\n",
    "print(sentences)"
   ]
  },
  {
   "cell_type": "code",
   "execution_count": 18,
   "metadata": {},
   "outputs": [
    {
     "name": "stdout",
     "output_type": "stream",
     "text": [
      "['i', 'me', 'my', 'myself', 'we', 'our', 'ours', 'ourselves', 'you', \"you're\", \"you've\", \"you'll\", \"you'd\", 'your', 'yours', 'yourself', 'yourselves', 'he', 'him', 'his', 'himself', 'she', \"she's\", 'her', 'hers', 'herself', 'it', \"it's\", 'its', 'itself', 'they', 'them', 'their', 'theirs', 'themselves', 'what', 'which', 'who', 'whom', 'this', 'that', \"that'll\", 'these', 'those', 'am', 'is', 'are', 'was', 'were', 'be', 'been', 'being', 'have', 'has', 'had', 'having', 'do', 'does', 'did', 'doing', 'a', 'an', 'the', 'and', 'but', 'if', 'or', 'because', 'as', 'until', 'while', 'of', 'at', 'by', 'for', 'with', 'about', 'against', 'between', 'into', 'through', 'during', 'before', 'after', 'above', 'below', 'to', 'from', 'up', 'down', 'in', 'out', 'on', 'off', 'over', 'under', 'again', 'further', 'then', 'once', 'here', 'there', 'when', 'where', 'why', 'how', 'all', 'any', 'both', 'each', 'few', 'more', 'most', 'other', 'some', 'such', 'no', 'nor', 'not', 'only', 'own', 'same', 'so', 'than', 'too', 'very', 's', 't', 'can', 'will', 'just', 'don', \"don't\", 'should', \"should've\", 'now', 'd', 'll', 'm', 'o', 're', 've', 'y', 'ain', 'aren', \"aren't\", 'couldn', \"couldn't\", 'didn', \"didn't\", 'doesn', \"doesn't\", 'hadn', \"hadn't\", 'hasn', \"hasn't\", 'haven', \"haven't\", 'isn', \"isn't\", 'ma', 'mightn', \"mightn't\", 'mustn', \"mustn't\", 'needn', \"needn't\", 'shan', \"shan't\", 'shouldn', \"shouldn't\", 'wasn', \"wasn't\", 'weren', \"weren't\", 'won', \"won't\", 'wouldn', \"wouldn't\"]\n"
     ]
    }
   ],
   "source": [
    "# List stop words\n",
    "from nltk.corpus import stopwords\n",
    "print(stopwords.words(\"english\"))"
   ]
  },
  {
   "cell_type": "code",
   "execution_count": 19,
   "metadata": {},
   "outputs": [
    {
     "name": "stdout",
     "output_type": "stream",
     "text": [
      "['the', 'first', 'time', 'you', 'see', 'the', 'second', 'renaissance', 'it', 'may', 'look', 'boring', 'look', 'at', 'it', 'at', 'least', 'twice', 'and', 'definitely', 'watch', 'part', '2', 'it', 'will', 'change', 'your', 'view', 'of', 'the', 'matrix', 'are', 'the', 'human', 'people', 'the', 'ones', 'who', 'started', 'the', 'war', 'is', 'ai', 'a', 'bad', 'thing']\n"
     ]
    }
   ],
   "source": [
    "# Reset text\n",
    "text = \"The first time you see The Second Renaissance it may look boring. Look at it at least twice and definitely watch part 2. It will change your view of the matrix. Are the human people the ones who started the war ? Is AI a bad thing ?\"\n",
    "\n",
    "# Normalize it\n",
    "text = re.sub(r\"[^a-zA-Z0-9]\", \" \", text.lower())\n",
    "\n",
    "# Tokenize it\n",
    "words = text.split()\n",
    "print(words)"
   ]
  },
  {
   "cell_type": "code",
   "execution_count": 20,
   "metadata": {},
   "outputs": [
    {
     "name": "stdout",
     "output_type": "stream",
     "text": [
      "['first', 'time', 'see', 'second', 'renaissance', 'may', 'look', 'boring', 'look', 'least', 'twice', 'definitely', 'watch', 'part', '2', 'change', 'view', 'matrix', 'human', 'people', 'ones', 'started', 'war', 'ai', 'bad', 'thing']\n"
     ]
    }
   ],
   "source": [
    "# Remove stop words\n",
    "words = [w for w in words if w not in stopwords.words(\"english\")]\n",
    "print(words)"
   ]
  },
  {
   "cell_type": "markdown",
   "metadata": {},
   "source": [
    "### Sentence Parsing"
   ]
  },
  {
   "cell_type": "code",
   "execution_count": 21,
   "metadata": {},
   "outputs": [
    {
     "name": "stdout",
     "output_type": "stream",
     "text": [
      "(S\n",
      "  (NP I)\n",
      "  (VP\n",
      "    (VP (V shot) (NP (Det an) (N elephant)))\n",
      "    (PP (P in) (NP (Det my) (N pajamas)))))\n",
      "(S\n",
      "  (NP I)\n",
      "  (VP\n",
      "    (V shot)\n",
      "    (NP (Det an) (N elephant) (PP (P in) (NP (Det my) (N pajamas))))))\n"
     ]
    }
   ],
   "source": [
    "import nltk\n",
    "\n",
    "# Define a custom grammar\n",
    "my_grammar = nltk.CFG.fromstring(\"\"\"\n",
    "S -> NP VP\n",
    "PP -> P NP\n",
    "NP -> Det N | Det N PP | 'I'\n",
    "VP -> V NP | VP PP\n",
    "Det -> 'an' | 'my'\n",
    "N -> 'elephant' | 'pajamas'\n",
    "V -> 'shot'\n",
    "P -> 'in'\n",
    "\"\"\")\n",
    "parser = nltk.ChartParser(my_grammar)\n",
    "\n",
    "# Parse a sentence\n",
    "sentence = word_tokenize(\"I shot an elephant in my pajamas\")\n",
    "for tree in parser.parse(sentence):\n",
    "    print(tree)"
   ]
  },
  {
   "cell_type": "markdown",
   "metadata": {},
   "source": [
    "## Stemming & Lemmatization\n",
    "\n",
    "### Stemming"
   ]
  },
  {
   "cell_type": "code",
   "execution_count": 22,
   "metadata": {},
   "outputs": [
    {
     "name": "stdout",
     "output_type": "stream",
     "text": [
      "['first', 'time', 'see', 'second', 'renaiss', 'may', 'look', 'bore', 'look', 'least', 'twice', 'definit', 'watch', 'part', '2', 'chang', 'view', 'matrix', 'human', 'peopl', 'one', 'start', 'war', 'ai', 'bad', 'thing']\n"
     ]
    }
   ],
   "source": [
    "from nltk.stem.porter import PorterStemmer\n",
    "\n",
    "# Reduce words to their stems\n",
    "stemmed = [PorterStemmer().stem(w) for w in words]\n",
    "print(stemmed)"
   ]
  },
  {
   "cell_type": "markdown",
   "metadata": {},
   "source": [
    "### Lemmatization"
   ]
  },
  {
   "cell_type": "code",
   "execution_count": 23,
   "metadata": {},
   "outputs": [
    {
     "name": "stdout",
     "output_type": "stream",
     "text": [
      "['first', 'time', 'see', 'second', 'renaissance', 'may', 'look', 'boring', 'look', 'least', 'twice', 'definitely', 'watch', 'part', '2', 'change', 'view', 'matrix', 'human', 'people', 'one', 'started', 'war', 'ai', 'bad', 'thing']\n"
     ]
    }
   ],
   "source": [
    "from nltk.stem.wordnet import WordNetLemmatizer\n",
    "\n",
    "# Reduce words to their root form\n",
    "lemmed = [WordNetLemmatizer().lemmatize(w) for w in words]\n",
    "print(lemmed)"
   ]
  },
  {
   "cell_type": "code",
   "execution_count": 24,
   "metadata": {},
   "outputs": [
    {
     "name": "stdout",
     "output_type": "stream",
     "text": [
      "['first', 'time', 'see', 'second', 'renaissance', 'may', 'look', 'bore', 'look', 'least', 'twice', 'definitely', 'watch', 'part', '2', 'change', 'view', 'matrix', 'human', 'people', 'one', 'start', 'war', 'ai', 'bad', 'thing']\n"
     ]
    }
   ],
   "source": [
    "# Lemmatize verbs by specifying pos\n",
    "lemmed = [WordNetLemmatizer().lemmatize(w, pos='v') for w in lemmed]\n",
    "print(lemmed)"
   ]
  },
  {
   "cell_type": "code",
   "execution_count": null,
   "metadata": {},
   "outputs": [],
   "source": []
  }
 ],
 "metadata": {
  "kernelspec": {
   "display_name": "Python 3",
   "language": "python",
   "name": "python3"
  },
  "language_info": {
   "codemirror_mode": {
    "name": "ipython",
    "version": 3
   },
   "file_extension": ".py",
   "mimetype": "text/x-python",
   "name": "python",
   "nbconvert_exporter": "python",
   "pygments_lexer": "ipython3",
   "version": "3.8.5"
  },
  "toc": {
   "base_numbering": 1,
   "nav_menu": {},
   "number_sections": true,
   "sideBar": true,
   "skip_h1_title": false,
   "title_cell": "Table of Contents",
   "title_sidebar": "Contents",
   "toc_cell": false,
   "toc_position": {},
   "toc_section_display": true,
   "toc_window_display": false
  }
 },
 "nbformat": 4,
 "nbformat_minor": 2
}
